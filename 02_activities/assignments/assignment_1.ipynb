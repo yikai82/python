{
 "cells": [
  {
   "cell_type": "markdown",
   "metadata": {},
   "source": [
    "# Assignment #1: Anagram Checker\n",
    "\n",
    "**Background**: Anagram Checker is a program that takes two words and determines if an anagram can be made from it. If so, the program will return `true`, otherwise `false`."
   ]
  },
  {
   "cell_type": "markdown",
   "metadata": {},
   "source": [
    "## Submission Information\n",
    "\n",
    "🚨 **Please review our [Assignment Submission Guide](https://github.com/UofT-DSI/onboarding/blob/main/onboarding_documents/submissions.md)** 🚨 for detailed instructions on how to format, branch, and submit your work. Following these guidelines is crucial for your submissions to be evaluated correctly.\n",
    "\n",
    "### Submission Parameters:\n",
    "* Submission Due Date: `11:59 PM - August 24, 2025`\n",
    "* The branch name for your repo should be: `assignment-1`\n",
    "* What to submit for this assignment:\n",
    "    * This Jupyter Notebook (assignment_1.ipynb) should be populated and should be the only change in your pull request.\n",
    "* What the pull request link should look like for this assignment: `https://github.com/<your_github_username>/python/pull/<pr_id>`\n",
    "    * Open a private window in your browser. Copy and paste the link to your pull request into the address bar. Make sure you can see your pull request properly. This helps the technical facilitator and learning support staff review your submission easily.\n",
    "\n",
    "Checklist:\n",
    "- [ ] Created a branch with the correct naming convention.\n",
    "- [ ] Ensured that the repository is public.\n",
    "- [ ] Reviewed the PR description guidelines and adhered to them.\n",
    "- [ ] Verify that the link is accessible in a private browser window.\n",
    "\n",
    "If you encounter any difficulties or have questions, please don't hesitate to reach out to our team via our Slack at `#dc-help`. Our Technical Facilitators and Learning Support staff are here to help you navigate any challenges."
   ]
  },
  {
   "cell_type": "markdown",
   "metadata": {},
   "source": [
    "### Part 1: Building the base Anagram Checker\n",
    "\n",
    "Given two valid strings, check to see if they are anagrams of each other. If it is, return `True`, else `False`. For this part, we can assume that uppercase letters are the same as if it was a lowercase character.\n",
    "\n",
    "Examples of anagrams:\n",
    "* Silent and Listen\n",
    "* Night and Think\n",
    "\n",
    "Example outputs:\n",
    "```python\n",
    "anagram_checker(\"Silent\", \"listen\") # True\n",
    "anagram_checker(\"Silent\", \"Night\") # False\n",
    "anagram_checker(\"night\", \"Thing\") # True\n",
    "```"
   ]
  },
  {
   "cell_type": "code",
   "execution_count": 1,
   "metadata": {},
   "outputs": [
    {
     "name": "stdout",
     "output_type": "stream",
     "text": [
      "['E', 'I', 'L', 'N', 'S', 'T']\n",
      "['E', 'I', 'L', 'N', 'S', 'T']\n"
     ]
    },
    {
     "data": {
      "text/plain": [
       "True"
      ]
     },
     "execution_count": 1,
     "metadata": {},
     "output_type": "execute_result"
    }
   ],
   "source": [
    "# For testing purposes, we will write our code in the function\n",
    "def anagram_checker(word_a, word_b):\n",
    "  # Your code here\n",
    "  word_a = sorted(word_a.upper())       # word.upper() to convert word to upper case to compared\n",
    "  word_b = sorted(word_b.upper())       # use sorted() to sort the word \n",
    "  \n",
    "  print(word_a)                         # use print() to check output\n",
    "  print(word_b)\n",
    "\n",
    "  if sorted(word_a) == sorted(word_b):  # if... return... else return... \n",
    "    return True \n",
    "  else: return False   \n",
    " \n",
    "# Run your code to check using the words below:\n",
    "anagram_checker(\"Silent\", \"listen\")     # checking anagram function"
   ]
  },
  {
   "cell_type": "code",
   "execution_count": 2,
   "metadata": {},
   "outputs": [
    {
     "name": "stdout",
     "output_type": "stream",
     "text": [
      "['E', 'I', 'L', 'N', 'S', 'T']\n",
      "['G', 'H', 'I', 'N', 'T']\n"
     ]
    },
    {
     "data": {
      "text/plain": [
       "False"
      ]
     },
     "execution_count": 2,
     "metadata": {},
     "output_type": "execute_result"
    }
   ],
   "source": [
    "anagram_checker(\"Silent\", \"Night\")"
   ]
  },
  {
   "cell_type": "code",
   "execution_count": 3,
   "metadata": {},
   "outputs": [
    {
     "name": "stdout",
     "output_type": "stream",
     "text": [
      "['G', 'H', 'I', 'N', 'T']\n",
      "['G', 'H', 'I', 'N', 'T']\n"
     ]
    },
    {
     "data": {
      "text/plain": [
       "True"
      ]
     },
     "execution_count": 3,
     "metadata": {},
     "output_type": "execute_result"
    }
   ],
   "source": [
    "anagram_checker(\"night\", \"Thing\")"
   ]
  },
  {
   "cell_type": "markdown",
   "metadata": {},
   "source": [
    "### Part 2: Expanding the functionality of the Anagram Checker\n",
    "\n",
    "Using your existing and functional anagram checker, let's add a boolean option called `is_case_sensitive`, which will return `True` or `False` based on if the two compared words are anagrams and if we are checking for case sensitivity."
   ]
  },
  {
   "cell_type": "code",
   "execution_count": null,
   "metadata": {},
   "outputs": [],
   "source": [
    "\n",
    "# rename to anagram_checker_v2 to avoid confusion with previous function\n",
    "\n",
    "def anagram_checker_v2(word_a, word_b, case_sensitive):\n",
    "     \n",
    "  if type(case_sensitive) == str:\n",
    "    if case_sensitive == \"Yes\":\n",
    "       word_a = sorted(word_a)\n",
    "       word_b = sorted(word_b)\n",
    "       print(word_a)\n",
    "       print(word_b)\n",
    "       \n",
    "       if sorted(word_a) == sorted(word_b): \n",
    "        return True\n",
    "       else: return False  \n",
    "\n",
    "    elif case_sensitive == \"No\":\n",
    "        word_a = sorted(word_a.upper())\n",
    "        word_b = sorted(word_b.upper())\n",
    "        print(word_a)\n",
    "        print(word_b)\n",
    "        if sorted(word_a) == sorted(word_b): \n",
    "          return True \n",
    "        else: return False\n",
    "    \n",
    "    elif case_sensitive != \"Yes\" or \"No\":\n",
    "      print('Trying the case_sensitive with a string that is not \"Yes\" or \"No\"? \\n'\n",
    "            'Good try, but nothing I can do for you 😅😅')\n",
    "\n",
    "  elif case_sensitive == True:\n",
    "    word_a = sorted(word_a)\n",
    "    word_b = sorted(word_b)\n",
    "\n",
    "    print(word_a)\n",
    "    print(word_b)\n",
    "    \n",
    "    if sorted(word_a) == sorted(word_b): \n",
    "      return True\n",
    "    else: return False  \n",
    "  \n",
    "  elif case_sensitive == False:  \n",
    "    word_a = sorted(word_a.upper())\n",
    "    word_b = sorted(word_b.upper())\n",
    "\n",
    "    print(word_a)\n",
    "    print(word_b)\n",
    "\n",
    "    if sorted(word_a) == sorted(word_b): \n",
    "      return True \n",
    "    else: return False\n",
    "  \n",
    "  else:  \n",
    "    print('Are you trying with a number for the case_sensitive \\n' \n",
    "    'Sorry, I only take True/False or \"Yes\"/\"No\" 🤪🤪 \\n'\n",
    "    'You can try with 0 and 1 see what happened')\n",
    "    \n",
    "    return \n",
    "\n"
   ]
  },
  {
   "cell_type": "markdown",
   "metadata": {},
   "source": [
    "### Add extra flexibility for the fucntion\n",
    "1. Can acccept either True or \"Yes\" if want to check for case_sensitiv and vice versa \n",
    "2. Allow strings and error \n",
    "3. Allow number with error\n"
   ]
  },
  {
   "cell_type": "code",
   "execution_count": 8,
   "metadata": {},
   "outputs": [
    {
     "name": "stdout",
     "output_type": "stream",
     "text": [
      "['E', 'I', 'L', 'N', 'S', 'T']\n",
      "['E', 'I', 'L', 'N', 'S', 'T']\n"
     ]
    },
    {
     "data": {
      "text/plain": [
       "True"
      ]
     },
     "execution_count": 8,
     "metadata": {},
     "output_type": "execute_result"
    }
   ],
   "source": [
    "# Check 1: Run your code to check using the words below:\n",
    "anagram_checker_v2(\"Silent\", \"listen\", False) # True"
   ]
  },
  {
   "cell_type": "code",
   "execution_count": 9,
   "metadata": {},
   "outputs": [
    {
     "name": "stdout",
     "output_type": "stream",
     "text": [
      "['S', 'e', 'i', 'l', 'n', 't']\n",
      "['L', 'e', 'i', 'n', 's', 't']\n"
     ]
    },
    {
     "data": {
      "text/plain": [
       "False"
      ]
     },
     "execution_count": 9,
     "metadata": {},
     "output_type": "execute_result"
    }
   ],
   "source": [
    "# Check 2: \n",
    "anagram_checker_v2(\"Silent\", \"Listen\", True) # False"
   ]
  },
  {
   "cell_type": "code",
   "execution_count": 10,
   "metadata": {},
   "outputs": [
    {
     "name": "stdout",
     "output_type": "stream",
     "text": [
      "['E', 'I', 'L', 'N', 'S', 'T']\n",
      "['E', 'I', 'L', 'N', 'S', 'T']\n"
     ]
    },
    {
     "data": {
      "text/plain": [
       "True"
      ]
     },
     "execution_count": 10,
     "metadata": {},
     "output_type": "execute_result"
    }
   ],
   "source": [
    "# check with \"No\"\n",
    "anagram_checker_v2(\"Silent\", \"Listen\", \"No\")"
   ]
  },
  {
   "cell_type": "code",
   "execution_count": 11,
   "metadata": {},
   "outputs": [
    {
     "name": "stdout",
     "output_type": "stream",
     "text": [
      "['S', 'e', 'i', 'l', 'n', 't']\n",
      "['L', 'e', 'i', 'n', 's', 't']\n"
     ]
    },
    {
     "data": {
      "text/plain": [
       "False"
      ]
     },
     "execution_count": 11,
     "metadata": {},
     "output_type": "execute_result"
    }
   ],
   "source": [
    "# check with \"Yes\"\n",
    "anagram_checker_v2(\"Silent\", \"Listen\", \"Yes\")"
   ]
  },
  {
   "cell_type": "code",
   "execution_count": 12,
   "metadata": {},
   "outputs": [
    {
     "name": "stdout",
     "output_type": "stream",
     "text": [
      "Trying the case_sensitive with a string that is not \"Yes\" or \"No\"? \n",
      "Good try, but nothing I can do for you 😅😅\n"
     ]
    }
   ],
   "source": [
    "# check with \"string\"\n",
    "anagram_checker_v2(\"Silent\", \"Listen\",\"haha\")"
   ]
  },
  {
   "cell_type": "code",
   "execution_count": 21,
   "metadata": {},
   "outputs": [
    {
     "name": "stdout",
     "output_type": "stream",
     "text": [
      "Are you trying with a number for the case_sensitive \n",
      "SorryI only take True/False or \"Yes\"/\"No\" 🤪🤪 \n",
      "You can try with 0 and 1 see what happened\n"
     ]
    }
   ],
   "source": [
    "# check with number\n",
    "anagram_checker_v2(\"Silent\", \"Listen\",-1.1)  # if entering 1 or 0 will return interpret as 1 = True and 0 = False, \n",
    "                                          # which should be avoid "
   ]
  },
  {
   "cell_type": "markdown",
   "metadata": {},
   "source": [
    "|Criteria|Pass|Fail|\n",
    "|---|---|---|\n",
    "|Code Execution|All code cells execute without errors.|Any code cell produces an error upon execution.|\n",
    "|Code Quality|Code is well-organized, concise, and includes necessary comments for clarity. E.g. Great use of variable names.|Code is unorganized, verbose, or lacks necessary comments. E.g. Single character variable names outside of loops.|"
   ]
  }
 ],
 "metadata": {
  "kernelspec": {
   "display_name": "dsi_participant",
   "language": "python",
   "name": "python3"
  },
  "language_info": {
   "codemirror_mode": {
    "name": "ipython",
    "version": 3
   },
   "file_extension": ".py",
   "mimetype": "text/x-python",
   "name": "python",
   "nbconvert_exporter": "python",
   "pygments_lexer": "ipython3",
   "version": "3.9.23"
  }
 },
 "nbformat": 4,
 "nbformat_minor": 2
}

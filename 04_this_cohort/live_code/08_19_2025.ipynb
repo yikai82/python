{
 "cells": [
  {
   "cell_type": "markdown",
   "id": "3a708ea8",
   "metadata": {},
   "source": [
    "# Python\n",
    "## August 19th 2025"
   ]
  },
  {
   "cell_type": "code",
   "execution_count": 81,
   "id": "ef084562",
   "metadata": {},
   "outputs": [
    {
     "name": "stdout",
     "output_type": "stream",
     "text": [
      "Hello World\n"
     ]
    }
   ],
   "source": [
    "print('Hello World')"
   ]
  },
  {
   "cell_type": "markdown",
   "id": "07bc5265",
   "metadata": {},
   "source": [
    "**Keyboard Shortcuts:**\n",
    "   - Utilize keyboard shortcuts for faster execution:\n",
    "     - `Shift + Enter`: Run the current cell and move to the next cell.\n",
    "     - `Ctrl + Enter`: Run the current cell and stay on the same cell.\n",
    "     - `Alt + Enter`: Run the current cell and insert a new cell below."
   ]
  },
  {
   "cell_type": "code",
   "execution_count": 82,
   "id": "668637e4",
   "metadata": {},
   "outputs": [
    {
     "name": "stdout",
     "output_type": "stream",
     "text": [
      "Hello World\n"
     ]
    }
   ],
   "source": [
    "print('Hello World')"
   ]
  },
  {
   "cell_type": "markdown",
   "id": "f3171117",
   "metadata": {},
   "source": [
    "- int: whole numbers\n",
    "- float: decimal numbers\n",
    "- string: text\n",
    "- bool: true/false"
   ]
  },
  {
   "cell_type": "code",
   "execution_count": 83,
   "id": "afe3c287",
   "metadata": {},
   "outputs": [
    {
     "data": {
      "text/plain": [
       "11"
      ]
     },
     "execution_count": 83,
     "metadata": {},
     "output_type": "execute_result"
    }
   ],
   "source": [
    "5 + 6"
   ]
  },
  {
   "cell_type": "code",
   "execution_count": 84,
   "id": "4f88bc62",
   "metadata": {},
   "outputs": [
    {
     "data": {
      "text/plain": [
       "2.5"
      ]
     },
     "execution_count": 84,
     "metadata": {},
     "output_type": "execute_result"
    }
   ],
   "source": [
    "5 / 2"
   ]
  },
  {
   "cell_type": "code",
   "execution_count": 85,
   "id": "13495679",
   "metadata": {},
   "outputs": [
    {
     "data": {
      "text/plain": [
       "3.3333333333333335"
      ]
     },
     "execution_count": 85,
     "metadata": {},
     "output_type": "execute_result"
    }
   ],
   "source": [
    "10 / 3"
   ]
  },
  {
   "cell_type": "code",
   "execution_count": 86,
   "id": "16e44314",
   "metadata": {},
   "outputs": [
    {
     "data": {
      "text/plain": [
       "3"
      ]
     },
     "execution_count": 86,
     "metadata": {},
     "output_type": "execute_result"
    }
   ],
   "source": [
    "# integer division -> divide the first operand by the second and return the quotient rounded down to the nearest int\n",
    "10 // 3"
   ]
  },
  {
   "cell_type": "code",
   "execution_count": 87,
   "id": "4c6f4a58",
   "metadata": {},
   "outputs": [
    {
     "data": {
      "text/plain": [
       "1"
      ]
     },
     "execution_count": 87,
     "metadata": {},
     "output_type": "execute_result"
    }
   ],
   "source": [
    "# modulo -> return the remainder of the division of the first operand by the second\n",
    "10 % 3"
   ]
  },
  {
   "cell_type": "code",
   "execution_count": 88,
   "id": "5e68b158",
   "metadata": {},
   "outputs": [
    {
     "data": {
      "text/plain": [
       "1000"
      ]
     },
     "execution_count": 88,
     "metadata": {},
     "output_type": "execute_result"
    }
   ],
   "source": [
    "10 ** 3 "
   ]
  },
  {
   "cell_type": "markdown",
   "id": "2082c9cb",
   "metadata": {},
   "source": [
    "| Operator | Description |\n",
    "| --- | --- |\n",
    "| `>` | Greater than |\n",
    "| `>=` | Greater than or equal to |\n",
    "| `<` | Less than |\n",
    "| `<=` | Less than or equal to |\n",
    "| `==` | Equal to |\n",
    "| `!=` | Not equal to |"
   ]
  },
  {
   "cell_type": "code",
   "execution_count": 89,
   "id": "e3a300f0",
   "metadata": {},
   "outputs": [
    {
     "data": {
      "text/plain": [
       "True"
      ]
     },
     "execution_count": 89,
     "metadata": {},
     "output_type": "execute_result"
    }
   ],
   "source": [
    "True"
   ]
  },
  {
   "cell_type": "code",
   "execution_count": 90,
   "id": "be88cf56",
   "metadata": {},
   "outputs": [
    {
     "data": {
      "text/plain": [
       "False"
      ]
     },
     "execution_count": 90,
     "metadata": {},
     "output_type": "execute_result"
    }
   ],
   "source": [
    "False"
   ]
  },
  {
   "cell_type": "code",
   "execution_count": 91,
   "id": "f00fae10",
   "metadata": {},
   "outputs": [
    {
     "data": {
      "text/plain": [
       "True"
      ]
     },
     "execution_count": 91,
     "metadata": {},
     "output_type": "execute_result"
    }
   ],
   "source": [
    "50 > 25"
   ]
  },
  {
   "cell_type": "code",
   "execution_count": 92,
   "id": "36fcfc66",
   "metadata": {},
   "outputs": [
    {
     "data": {
      "text/plain": [
       "False"
      ]
     },
     "execution_count": 92,
     "metadata": {},
     "output_type": "execute_result"
    }
   ],
   "source": [
    "-15 >= -14.99"
   ]
  },
  {
   "cell_type": "code",
   "execution_count": 93,
   "id": "4d4baf68",
   "metadata": {},
   "outputs": [
    {
     "data": {
      "text/plain": [
       "True"
      ]
     },
     "execution_count": 93,
     "metadata": {},
     "output_type": "execute_result"
    }
   ],
   "source": [
    "20 == 20"
   ]
  },
  {
   "cell_type": "markdown",
   "id": "77effa12",
   "metadata": {},
   "source": [
    "\n",
    "| Order | Operator | Description |\n",
    "|---|---|---|\n",
    "| 1 | `**` | Exponentiation |\n",
    "| 2 | `-`| Negation |\n",
    "| 3 | `*`, `/`, `//`, `%` | Multiplication, division, integer division, and modulo |\n",
    "| 4 | `+`, `-` | Addition and subtraction |\n",
    "| 5 | `<`, `<=`, `>`, `>=`, `==`, `!=` | Less than, less than or equal to, greater than, greater than or equal to, equal, not equal |"
   ]
  },
  {
   "cell_type": "code",
   "execution_count": 94,
   "id": "afe5d9ed",
   "metadata": {},
   "outputs": [
    {
     "data": {
      "text/plain": [
       "False"
      ]
     },
     "execution_count": 94,
     "metadata": {},
     "output_type": "execute_result"
    }
   ],
   "source": [
    "(10 * 2) / 3 > 15"
   ]
  },
  {
   "cell_type": "code",
   "execution_count": 95,
   "id": "1c7c767d",
   "metadata": {},
   "outputs": [
    {
     "data": {
      "text/plain": [
       "20"
      ]
     },
     "execution_count": 95,
     "metadata": {},
     "output_type": "execute_result"
    }
   ],
   "source": [
    "10 * 2"
   ]
  },
  {
   "cell_type": "code",
   "execution_count": 96,
   "id": "0bb7aae0",
   "metadata": {},
   "outputs": [
    {
     "data": {
      "text/plain": [
       "6.666666666666667"
      ]
     },
     "execution_count": 96,
     "metadata": {},
     "output_type": "execute_result"
    }
   ],
   "source": [
    "20 / 3"
   ]
  },
  {
   "cell_type": "code",
   "execution_count": 97,
   "id": "3eb8eb8a",
   "metadata": {},
   "outputs": [
    {
     "data": {
      "text/plain": [
       "False"
      ]
     },
     "execution_count": 97,
     "metadata": {},
     "output_type": "execute_result"
    }
   ],
   "source": [
    "6.666666666666667 > 15"
   ]
  },
  {
   "cell_type": "code",
   "execution_count": 98,
   "id": "992957e4",
   "metadata": {},
   "outputs": [],
   "source": [
    "# variable names\n",
    "# can have letters, digits, and underscores\n",
    "# cannot start with a digit\n",
    "# case sensitive\n",
    "\n",
    "degrees_celsius = 25"
   ]
  },
  {
   "cell_type": "code",
   "execution_count": 99,
   "id": "cb75ef25",
   "metadata": {},
   "outputs": [
    {
     "data": {
      "text/plain": [
       "77.0"
      ]
     },
     "execution_count": 99,
     "metadata": {},
     "output_type": "execute_result"
    }
   ],
   "source": [
    "degrees_fahrenheit = (9 / 5) * degrees_celsius + 32\n",
    "degrees_fahrenheit"
   ]
  },
  {
   "cell_type": "code",
   "execution_count": 100,
   "id": "1712855b",
   "metadata": {},
   "outputs": [
    {
     "data": {
      "text/plain": [
       "77.0"
      ]
     },
     "execution_count": 100,
     "metadata": {},
     "output_type": "execute_result"
    }
   ],
   "source": [
    "(9 / 5) * 25 + 32"
   ]
  },
  {
   "cell_type": "code",
   "execution_count": 101,
   "id": "5e4c6a19",
   "metadata": {},
   "outputs": [
    {
     "data": {
      "text/plain": [
       "0"
      ]
     },
     "execution_count": 101,
     "metadata": {},
     "output_type": "execute_result"
    }
   ],
   "source": [
    "degrees_celsius = 0\n",
    "degrees_celsius"
   ]
  },
  {
   "cell_type": "code",
   "execution_count": 102,
   "id": "ad95dc26",
   "metadata": {},
   "outputs": [
    {
     "data": {
      "text/plain": [
       "77.0"
      ]
     },
     "execution_count": 102,
     "metadata": {},
     "output_type": "execute_result"
    }
   ],
   "source": [
    "degrees_fahrenheit"
   ]
  },
  {
   "cell_type": "code",
   "execution_count": 103,
   "id": "a672812c",
   "metadata": {},
   "outputs": [
    {
     "data": {
      "text/plain": [
       "32.0"
      ]
     },
     "execution_count": 103,
     "metadata": {},
     "output_type": "execute_result"
    }
   ],
   "source": [
    "degrees_fahrenheit = (9 / 5) * degrees_celsius + 32\n",
    "degrees_fahrenheit"
   ]
  },
  {
   "cell_type": "code",
   "execution_count": 104,
   "id": "1e58c58f",
   "metadata": {},
   "outputs": [
    {
     "data": {
      "text/plain": [
       "0"
      ]
     },
     "execution_count": 104,
     "metadata": {},
     "output_type": "execute_result"
    }
   ],
   "source": [
    "degrees_celsius"
   ]
  },
  {
   "cell_type": "code",
   "execution_count": 107,
   "id": "20df63a5",
   "metadata": {},
   "outputs": [
    {
     "data": {
      "text/plain": [
       "30"
      ]
     },
     "execution_count": 107,
     "metadata": {},
     "output_type": "execute_result"
    }
   ],
   "source": [
    "degrees_celsius = degrees_celsius + 10\n",
    "degrees_celsius"
   ]
  },
  {
   "cell_type": "code",
   "execution_count": 108,
   "id": "aeab4d73",
   "metadata": {},
   "outputs": [],
   "source": [
    "a = 1"
   ]
  },
  {
   "cell_type": "code",
   "execution_count": 109,
   "id": "a537cef5",
   "metadata": {},
   "outputs": [
    {
     "data": {
      "text/plain": [
       "1"
      ]
     },
     "execution_count": 109,
     "metadata": {},
     "output_type": "execute_result"
    }
   ],
   "source": [
    "a"
   ]
  },
  {
   "cell_type": "code",
   "execution_count": 110,
   "id": "d676653d",
   "metadata": {},
   "outputs": [],
   "source": [
    "b = a"
   ]
  },
  {
   "cell_type": "code",
   "execution_count": 111,
   "id": "b68e00aa",
   "metadata": {},
   "outputs": [
    {
     "data": {
      "text/plain": [
       "1"
      ]
     },
     "execution_count": 111,
     "metadata": {},
     "output_type": "execute_result"
    }
   ],
   "source": [
    "b"
   ]
  },
  {
   "cell_type": "code",
   "execution_count": 112,
   "id": "d250e226",
   "metadata": {},
   "outputs": [],
   "source": [
    "a = 2"
   ]
  },
  {
   "cell_type": "code",
   "execution_count": 113,
   "id": "a3ce84c8",
   "metadata": {},
   "outputs": [
    {
     "data": {
      "text/plain": [
       "2"
      ]
     },
     "execution_count": 113,
     "metadata": {},
     "output_type": "execute_result"
    }
   ],
   "source": [
    "a"
   ]
  },
  {
   "cell_type": "code",
   "execution_count": 114,
   "id": "27ad2700",
   "metadata": {},
   "outputs": [
    {
     "data": {
      "text/plain": [
       "1"
      ]
     },
     "execution_count": 114,
     "metadata": {},
     "output_type": "execute_result"
    }
   ],
   "source": [
    "b"
   ]
  },
  {
   "cell_type": "code",
   "execution_count": 120,
   "id": "13ca91ce",
   "metadata": {},
   "outputs": [],
   "source": [
    "degrees_celsius = 0"
   ]
  },
  {
   "cell_type": "code",
   "execution_count": null,
   "id": "832bb8d7",
   "metadata": {},
   "outputs": [
    {
     "data": {
      "text/plain": [
       "30"
      ]
     },
     "execution_count": 123,
     "metadata": {},
     "output_type": "execute_result"
    }
   ],
   "source": [
    "# degrees_celsius = degrees_celsius + 10\n",
    "\n",
    "# augmented assignment\n",
    "degrees_celsius += 10\n",
    "degrees_celsius\n",
    "\n",
    "# degrees_celsius **= 10"
   ]
  },
  {
   "cell_type": "code",
   "execution_count": 124,
   "id": "18d23121",
   "metadata": {},
   "outputs": [],
   "source": [
    "julia = 'cheese sandwich'\n",
    "kaylie = julia"
   ]
  },
  {
   "cell_type": "code",
   "execution_count": 125,
   "id": "9bfcf134",
   "metadata": {},
   "outputs": [
    {
     "data": {
      "text/plain": [
       "'cheese sandwich'"
      ]
     },
     "execution_count": 125,
     "metadata": {},
     "output_type": "execute_result"
    }
   ],
   "source": [
    "julia"
   ]
  },
  {
   "cell_type": "code",
   "execution_count": 126,
   "id": "8912a684",
   "metadata": {},
   "outputs": [
    {
     "data": {
      "text/plain": [
       "'cheese sandwich'"
      ]
     },
     "execution_count": 126,
     "metadata": {},
     "output_type": "execute_result"
    }
   ],
   "source": [
    "kaylie"
   ]
  },
  {
   "cell_type": "code",
   "execution_count": 127,
   "id": "c4ef4583",
   "metadata": {},
   "outputs": [],
   "source": [
    "julia = 'ham sandwich'"
   ]
  },
  {
   "cell_type": "code",
   "execution_count": 128,
   "id": "9cc7280d",
   "metadata": {},
   "outputs": [
    {
     "data": {
      "text/plain": [
       "'ham sandwich'"
      ]
     },
     "execution_count": 128,
     "metadata": {},
     "output_type": "execute_result"
    }
   ],
   "source": [
    "julia"
   ]
  },
  {
   "cell_type": "code",
   "execution_count": 129,
   "id": "0ad8fb10",
   "metadata": {},
   "outputs": [
    {
     "data": {
      "text/plain": [
       "'cheese sandwich'"
      ]
     },
     "execution_count": 129,
     "metadata": {},
     "output_type": "execute_result"
    }
   ],
   "source": [
    "kaylie"
   ]
  },
  {
   "cell_type": "code",
   "execution_count": 130,
   "id": "0bde7350",
   "metadata": {},
   "outputs": [],
   "source": [
    "kaylie = julia"
   ]
  },
  {
   "cell_type": "code",
   "execution_count": 131,
   "id": "db32f129",
   "metadata": {},
   "outputs": [
    {
     "data": {
      "text/plain": [
       "'ham sandwich'"
      ]
     },
     "execution_count": 131,
     "metadata": {},
     "output_type": "execute_result"
    }
   ],
   "source": [
    "kaylie"
   ]
  },
  {
   "cell_type": "code",
   "execution_count": 132,
   "id": "ebfca44f",
   "metadata": {},
   "outputs": [
    {
     "ename": "SyntaxError",
     "evalue": "cannot assign to literal here. Maybe you meant '==' instead of '='? (3541004665.py, line 1)",
     "output_type": "error",
     "traceback": [
      "\u001b[0;36m  Cell \u001b[0;32mIn[132], line 1\u001b[0;36m\u001b[0m\n\u001b[0;31m    12 = x\u001b[0m\n\u001b[0m    ^\u001b[0m\n\u001b[0;31mSyntaxError\u001b[0m\u001b[0;31m:\u001b[0m cannot assign to literal here. Maybe you meant '==' instead of '='?\n"
     ]
    }
   ],
   "source": [
    "12 = x"
   ]
  },
  {
   "cell_type": "code",
   "execution_count": 133,
   "id": "b8283460",
   "metadata": {},
   "outputs": [
    {
     "ename": "SyntaxError",
     "evalue": "invalid syntax (934255472.py, line 1)",
     "output_type": "error",
     "traceback": [
      "\u001b[0;36m  Cell \u001b[0;32mIn[133], line 1\u001b[0;36m\u001b[0m\n\u001b[0;31m    25 -\u001b[0m\n\u001b[0m        ^\u001b[0m\n\u001b[0;31mSyntaxError\u001b[0m\u001b[0;31m:\u001b[0m invalid syntax\n"
     ]
    }
   ],
   "source": [
    "25 -"
   ]
  },
  {
   "cell_type": "code",
   "execution_count": 134,
   "id": "3d3b241c",
   "metadata": {},
   "outputs": [
    {
     "ename": "NameError",
     "evalue": "name 'my_variable' is not defined",
     "output_type": "error",
     "traceback": [
      "\u001b[0;31m---------------------------------------------------------------------------\u001b[0m",
      "\u001b[0;31mNameError\u001b[0m                                 Traceback (most recent call last)",
      "Cell \u001b[0;32mIn[134], line 1\u001b[0m\n\u001b[0;32m----> 1\u001b[0m \u001b[43mmy_variable\u001b[49m \u001b[38;5;241m+\u001b[39m \u001b[38;5;241m1\u001b[39m\n",
      "\u001b[0;31mNameError\u001b[0m: name 'my_variable' is not defined"
     ]
    }
   ],
   "source": [
    "my_variable + 1"
   ]
  },
  {
   "cell_type": "code",
   "execution_count": null,
   "id": "02d5313a",
   "metadata": {},
   "outputs": [],
   "source": [
    "# this is a comment!\n",
    "\n",
    "dog = 'woof'\n",
    "# dog = 'bark'\n",
    "cat = 'meow'"
   ]
  },
  {
   "cell_type": "code",
   "execution_count": null,
   "id": "e3384b06",
   "metadata": {},
   "outputs": [],
   "source": [
    "# readability\n",
    "\n",
    "# white space: space to either side of an operator helps with readability\n",
    "# can split code across multiple lines by wrapping it in parentheses\n",
    "\n",
    "# comments: help explain sections of code\n",
    "# can toggle lines of code on/off\n",
    "\n",
    "# clear and consistent variable names: descriptive variable names\n",
    "# consistent naming practice"
   ]
  },
  {
   "cell_type": "code",
   "execution_count": 138,
   "id": "352cd1da",
   "metadata": {},
   "outputs": [
    {
     "data": {
      "text/plain": [
       "20"
      ]
     },
     "execution_count": 138,
     "metadata": {},
     "output_type": "execute_result"
    }
   ],
   "source": [
    "(5 + 5 +\n",
    "  5 + 5)"
   ]
  },
  {
   "cell_type": "markdown",
   "id": "960de3e0",
   "metadata": {},
   "source": [
    "Version 1\n",
    "```python\n",
    "studentone_grade=90\n",
    "StudentGrade2=50\n",
    "stu3gr=74\n",
    "avggrade=(studentone_grade+StudentGrade2+stut3gr)/3\n",
    "```\n",
    "\n",
    "Version 2 \n",
    "```python\n",
    "student1_grade = 90\n",
    "student2_grade = 50\n",
    "student3_grade = 74\n",
    "average_grade = ((student1_grade\n",
    "                  + student2_grade\n",
    "                  + student3_grade)\n",
    "                 / 3)\n",
    "```\n"
   ]
  },
  {
   "cell_type": "code",
   "execution_count": null,
   "id": "e2ac4eae",
   "metadata": {},
   "outputs": [
    {
     "name": "stdout",
     "output_type": "stream",
     "text": [
      "42\n"
     ]
    }
   ],
   "source": [
    "# function: block of code that performs a task\n",
    "# can take zero or more inputs and return an output\n",
    "\n",
    "print(42)"
   ]
  },
  {
   "cell_type": "code",
   "execution_count": 141,
   "id": "f7c97d25",
   "metadata": {},
   "outputs": [
    {
     "data": {
      "text/plain": [
       "float"
      ]
     },
     "execution_count": 141,
     "metadata": {},
     "output_type": "execute_result"
    }
   ],
   "source": [
    "type(42.0)"
   ]
  },
  {
   "cell_type": "code",
   "execution_count": 142,
   "id": "549350d7",
   "metadata": {},
   "outputs": [
    {
     "data": {
      "text/plain": [
       "bool"
      ]
     },
     "execution_count": 142,
     "metadata": {},
     "output_type": "execute_result"
    }
   ],
   "source": [
    "type(True)"
   ]
  },
  {
   "cell_type": "code",
   "execution_count": 143,
   "id": "8054647d",
   "metadata": {},
   "outputs": [
    {
     "data": {
      "text/plain": [
       "43"
      ]
     },
     "execution_count": 143,
     "metadata": {},
     "output_type": "execute_result"
    }
   ],
   "source": [
    "abs(-43)"
   ]
  },
  {
   "cell_type": "code",
   "execution_count": 144,
   "id": "ba5e2c18",
   "metadata": {},
   "outputs": [
    {
     "data": {
      "text/plain": [
       "1"
      ]
     },
     "execution_count": 144,
     "metadata": {},
     "output_type": "execute_result"
    }
   ],
   "source": [
    "round(2/3)"
   ]
  },
  {
   "cell_type": "code",
   "execution_count": 146,
   "id": "4de0a0f6",
   "metadata": {},
   "outputs": [
    {
     "data": {
      "text/plain": [
       "0.6666666666666666"
      ]
     },
     "execution_count": 146,
     "metadata": {},
     "output_type": "execute_result"
    }
   ],
   "source": [
    "2 / 3"
   ]
  },
  {
   "cell_type": "code",
   "execution_count": 147,
   "id": "a9ee0753",
   "metadata": {},
   "outputs": [
    {
     "data": {
      "text/plain": [
       "4.0"
      ]
     },
     "execution_count": 147,
     "metadata": {},
     "output_type": "execute_result"
    }
   ],
   "source": [
    "float(4)"
   ]
  },
  {
   "cell_type": "code",
   "execution_count": 148,
   "id": "5cb855cf",
   "metadata": {},
   "outputs": [
    {
     "data": {
      "text/plain": [
       "4"
      ]
     },
     "execution_count": 148,
     "metadata": {},
     "output_type": "execute_result"
    }
   ],
   "source": [
    "int(4.0)"
   ]
  },
  {
   "cell_type": "code",
   "execution_count": 149,
   "id": "38734581",
   "metadata": {},
   "outputs": [
    {
     "data": {
      "text/plain": [
       "int"
      ]
     },
     "execution_count": 149,
     "metadata": {},
     "output_type": "execute_result"
    }
   ],
   "source": [
    "type(round(2 * 1.5))"
   ]
  },
  {
   "cell_type": "code",
   "execution_count": 150,
   "id": "b57533e7",
   "metadata": {},
   "outputs": [
    {
     "data": {
      "text/plain": [
       "3.0"
      ]
     },
     "execution_count": 150,
     "metadata": {},
     "output_type": "execute_result"
    }
   ],
   "source": [
    "2 * 1.5"
   ]
  },
  {
   "cell_type": "code",
   "execution_count": 151,
   "id": "367b194d",
   "metadata": {},
   "outputs": [
    {
     "data": {
      "text/plain": [
       "3"
      ]
     },
     "execution_count": 151,
     "metadata": {},
     "output_type": "execute_result"
    }
   ],
   "source": [
    "round(3.0)"
   ]
  },
  {
   "cell_type": "code",
   "execution_count": 152,
   "id": "b0f10f1d",
   "metadata": {},
   "outputs": [
    {
     "data": {
      "text/plain": [
       "int"
      ]
     },
     "execution_count": 152,
     "metadata": {},
     "output_type": "execute_result"
    }
   ],
   "source": [
    "type(3)"
   ]
  },
  {
   "cell_type": "code",
   "execution_count": 153,
   "id": "a2911504",
   "metadata": {},
   "outputs": [
    {
     "name": "stdout",
     "output_type": "stream",
     "text": [
      "Help on built-in function round in module builtins:\n",
      "\n",
      "round(number, ndigits=None)\n",
      "    Round a number to a given precision in decimal digits.\n",
      "    \n",
      "    The return value is an integer if ndigits is omitted or None.  Otherwise\n",
      "    the return value has the same type as the number.  ndigits may be negative.\n",
      "\n"
     ]
    }
   ],
   "source": [
    "help(round)"
   ]
  },
  {
   "cell_type": "code",
   "execution_count": 161,
   "id": "cee2fa40",
   "metadata": {},
   "outputs": [
    {
     "data": {
      "text/plain": [
       "0.66667"
      ]
     },
     "execution_count": 161,
     "metadata": {},
     "output_type": "execute_result"
    }
   ],
   "source": [
    "round(2/3, 5)"
   ]
  },
  {
   "cell_type": "code",
   "execution_count": null,
   "id": "34a135e0",
   "metadata": {},
   "outputs": [
    {
     "data": {
      "text/plain": [
       "1"
      ]
     },
     "execution_count": 154,
     "metadata": {},
     "output_type": "execute_result"
    }
   ],
   "source": [
    "round(2/3)"
   ]
  },
  {
   "cell_type": "code",
   "execution_count": 156,
   "id": "2f0e2761",
   "metadata": {},
   "outputs": [
    {
     "data": {
      "text/plain": [
       "0.6666666666666666"
      ]
     },
     "execution_count": 156,
     "metadata": {},
     "output_type": "execute_result"
    }
   ],
   "source": [
    "2 / 3 "
   ]
  },
  {
   "cell_type": "code",
   "execution_count": 157,
   "id": "07e074d6",
   "metadata": {},
   "outputs": [
    {
     "data": {
      "text/plain": [
       "3"
      ]
     },
     "execution_count": 157,
     "metadata": {},
     "output_type": "execute_result"
    }
   ],
   "source": [
    "round(10/3)"
   ]
  },
  {
   "cell_type": "code",
   "execution_count": 159,
   "id": "dc267146",
   "metadata": {},
   "outputs": [
    {
     "data": {
      "text/plain": [
       "3.3333333333333335"
      ]
     },
     "execution_count": 159,
     "metadata": {},
     "output_type": "execute_result"
    }
   ],
   "source": [
    "10 / 3"
   ]
  },
  {
   "cell_type": "code",
   "execution_count": null,
   "id": "7950db8b",
   "metadata": {},
   "outputs": [],
   "source": [
    "# function names:\n",
    "# can use letters, digits, and underscores\n",
    "# cannot start with a digit\n",
    "# case sensitive\n",
    "# typically functions start with lowercase letters\n",
    "\n",
    "\n",
    "# parameters: variables used only within a function\n",
    "# pass an argument to a function, argument value is assigned to a corresponding parameter\n",
    "\n",
    "# None: special data type representing no data\n",
    "# if we don't have a return statement, Python will fill in an implicit one and return None"
   ]
  },
  {
   "cell_type": "code",
   "execution_count": 169,
   "id": "488a0cd2",
   "metadata": {},
   "outputs": [],
   "source": [
    "def c_to_f(degrees_c):\n",
    "    degrees_f = (9 / 5) * degrees_c + 32\n",
    "    return degrees_f"
   ]
  },
  {
   "cell_type": "code",
   "execution_count": 163,
   "id": "3c64200c",
   "metadata": {},
   "outputs": [
    {
     "data": {
      "text/plain": [
       "212.0"
      ]
     },
     "execution_count": 163,
     "metadata": {},
     "output_type": "execute_result"
    }
   ],
   "source": [
    "c_to_f(100)"
   ]
  },
  {
   "cell_type": "code",
   "execution_count": 164,
   "id": "6a569714",
   "metadata": {},
   "outputs": [
    {
     "data": {
      "text/plain": [
       "12.2"
      ]
     },
     "execution_count": 164,
     "metadata": {},
     "output_type": "execute_result"
    }
   ],
   "source": [
    "c_to_f(-11)"
   ]
  },
  {
   "cell_type": "code",
   "execution_count": 170,
   "id": "38c9d40f",
   "metadata": {},
   "outputs": [],
   "source": [
    "boiling_f = c_to_f(100)"
   ]
  },
  {
   "cell_type": "code",
   "execution_count": 171,
   "id": "e2ef8f99",
   "metadata": {},
   "outputs": [
    {
     "data": {
      "text/plain": [
       "212.0"
      ]
     },
     "execution_count": 171,
     "metadata": {},
     "output_type": "execute_result"
    }
   ],
   "source": [
    "boiling_f"
   ]
  },
  {
   "cell_type": "code",
   "execution_count": 172,
   "id": "b1a72385",
   "metadata": {},
   "outputs": [],
   "source": [
    "def c_to_f(degrees_c):\n",
    "    degrees_f = (9 / 5) * degrees_c + 32\n",
    "    print(degrees_f)"
   ]
  },
  {
   "cell_type": "code",
   "execution_count": null,
   "id": "1ac52ac1",
   "metadata": {},
   "outputs": [
    {
     "name": "stdout",
     "output_type": "stream",
     "text": [
      "212.0\n"
     ]
    }
   ],
   "source": [
    "boiling_f = c_to_f(100) # output is None"
   ]
  },
  {
   "cell_type": "code",
   "execution_count": 177,
   "id": "c021b747",
   "metadata": {},
   "outputs": [],
   "source": [
    "boiling_f"
   ]
  },
  {
   "cell_type": "code",
   "execution_count": null,
   "id": "1f8eb2d2",
   "metadata": {},
   "outputs": [],
   "source": []
  }
 ],
 "metadata": {
  "kernelspec": {
   "display_name": "dsi_participant",
   "language": "python",
   "name": "python3"
  },
  "language_info": {
   "codemirror_mode": {
    "name": "ipython",
    "version": 3
   },
   "file_extension": ".py",
   "mimetype": "text/x-python",
   "name": "python",
   "nbconvert_exporter": "python",
   "pygments_lexer": "ipython3",
   "version": "3.11.8"
  }
 },
 "nbformat": 4,
 "nbformat_minor": 5
}

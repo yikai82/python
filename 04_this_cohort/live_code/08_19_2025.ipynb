{
 "cells": [
  {
   "cell_type": "markdown",
   "id": "3a708ea8",
   "metadata": {},
   "source": [
    "# Python\n",
    "## August 19th 2025"
   ]
  },
  {
   "cell_type": "code",
   "execution_count": null,
   "id": "ef084562",
   "metadata": {},
   "outputs": [],
   "source": [
    "print('Hello World')"
   ]
  },
  {
   "cell_type": "markdown",
   "id": "07bc5265",
   "metadata": {},
   "source": [
    "**Keyboard Shortcuts:**\n",
    "   - Utilize keyboard shortcuts for faster execution:\n",
    "     - `Shift + Enter`: Run the current cell and move to the next cell.\n",
    "     - `Ctrl + Enter`: Run the current cell and stay on the same cell.\n",
    "     - `Alt + Enter`: Run the current cell and insert a new cell below."
   ]
  },
  {
   "cell_type": "code",
   "execution_count": null,
   "id": "668637e4",
   "metadata": {},
   "outputs": [],
   "source": [
    "print('Hello World')"
   ]
  },
  {
   "cell_type": "markdown",
   "id": "f3171117",
   "metadata": {},
   "source": [
    "- int: whole numbers\n",
    "- float: decimal numbers\n",
    "- string: text\n",
    "- bool: true/false"
   ]
  },
  {
   "cell_type": "code",
   "execution_count": null,
   "id": "afe3c287",
   "metadata": {},
   "outputs": [],
   "source": [
    "5 + 6"
   ]
  },
  {
   "cell_type": "code",
   "execution_count": null,
   "id": "4f88bc62",
   "metadata": {},
   "outputs": [],
   "source": [
    "5 / 2"
   ]
  },
  {
   "cell_type": "code",
   "execution_count": null,
   "id": "13495679",
   "metadata": {},
   "outputs": [],
   "source": [
    "10 / 3"
   ]
  },
  {
   "cell_type": "code",
   "execution_count": null,
   "id": "16e44314",
   "metadata": {},
   "outputs": [],
   "source": [
    "# integer division -> divide the first operand by the second and return the quotient rounded down to the nearest int\n",
    "10 // 3"
   ]
  },
  {
   "cell_type": "code",
   "execution_count": null,
   "id": "4c6f4a58",
   "metadata": {},
   "outputs": [],
   "source": [
    "# modulo -> return the remainder of the division of the first operand by the second\n",
    "10 % 3"
   ]
  },
  {
   "cell_type": "code",
   "execution_count": null,
   "id": "5e68b158",
   "metadata": {},
   "outputs": [],
   "source": [
    "10 ** 3 "
   ]
  },
  {
   "cell_type": "markdown",
   "id": "2082c9cb",
   "metadata": {},
   "source": [
    "| Operator | Description |\n",
    "| --- | --- |\n",
    "| `>` | Greater than |\n",
    "| `>=` | Greater than or equal to |\n",
    "| `<` | Less than |\n",
    "| `<=` | Less than or equal to |\n",
    "| `==` | Equal to |\n",
    "| `!=` | Not equal to |"
   ]
  },
  {
   "cell_type": "code",
   "execution_count": null,
   "id": "e3a300f0",
   "metadata": {},
   "outputs": [],
   "source": [
    "True"
   ]
  },
  {
   "cell_type": "code",
   "execution_count": null,
   "id": "be88cf56",
   "metadata": {},
   "outputs": [],
   "source": [
    "False"
   ]
  },
  {
   "cell_type": "code",
   "execution_count": null,
   "id": "f00fae10",
   "metadata": {},
   "outputs": [],
   "source": [
    "50 > 25"
   ]
  },
  {
   "cell_type": "code",
   "execution_count": null,
   "id": "36fcfc66",
   "metadata": {},
   "outputs": [],
   "source": [
    "-15 >= -14.99"
   ]
  },
  {
   "cell_type": "code",
   "execution_count": null,
   "id": "4d4baf68",
   "metadata": {},
   "outputs": [],
   "source": [
    "20 == 20"
   ]
  },
  {
   "cell_type": "markdown",
   "id": "77effa12",
   "metadata": {},
   "source": [
    "\n",
    "| Order | Operator | Description |\n",
    "|---|---|---|\n",
    "| 1 | `**` | Exponentiation |\n",
    "| 2 | `-`| Negation |\n",
    "| 3 | `*`, `/`, `//`, `%` | Multiplication, division, integer division, and modulo |\n",
    "| 4 | `+`, `-` | Addition and subtraction |\n",
    "| 5 | `<`, `<=`, `>`, `>=`, `==`, `!=` | Less than, less than or equal to, greater than, greater than or equal to, equal, not equal |"
   ]
  },
  {
   "cell_type": "code",
   "execution_count": null,
   "id": "afe5d9ed",
   "metadata": {},
   "outputs": [],
   "source": [
    "(10 * 2) / 3 > 15"
   ]
  },
  {
   "cell_type": "code",
   "execution_count": null,
   "id": "1c7c767d",
   "metadata": {},
   "outputs": [],
   "source": [
    "10 * 2"
   ]
  },
  {
   "cell_type": "code",
   "execution_count": null,
   "id": "0bb7aae0",
   "metadata": {},
   "outputs": [],
   "source": [
    "20 / 3"
   ]
  },
  {
   "cell_type": "code",
   "execution_count": null,
   "id": "3eb8eb8a",
   "metadata": {},
   "outputs": [],
   "source": [
    "6.666666666666667 > 15"
   ]
  },
  {
   "cell_type": "code",
   "execution_count": null,
   "id": "992957e4",
   "metadata": {},
   "outputs": [],
   "source": [
    "# variable names\n",
    "# can have letters, digits, and underscores\n",
    "# cannot start with a digit\n",
    "# case sensitive\n",
    "\n",
    "degrees_celsius = 25"
   ]
  },
  {
   "cell_type": "code",
   "execution_count": null,
   "id": "cb75ef25",
   "metadata": {},
   "outputs": [],
   "source": [
    "degrees_fahrenheit = (9 / 5) * degrees_celsius + 32\n",
    "degrees_fahrenheit"
   ]
  },
  {
   "cell_type": "code",
   "execution_count": null,
   "id": "1712855b",
   "metadata": {},
   "outputs": [],
   "source": [
    "(9 / 5) * 25 + 32"
   ]
  },
  {
   "cell_type": "code",
   "execution_count": null,
   "id": "5e4c6a19",
   "metadata": {},
   "outputs": [],
   "source": [
    "degrees_celsius = 0\n",
    "degrees_celsius"
   ]
  },
  {
   "cell_type": "code",
   "execution_count": null,
   "id": "ad95dc26",
   "metadata": {},
   "outputs": [],
   "source": [
    "degrees_fahrenheit"
   ]
  },
  {
   "cell_type": "code",
   "execution_count": null,
   "id": "a672812c",
   "metadata": {},
   "outputs": [],
   "source": [
    "degrees_fahrenheit = (9 / 5) * degrees_celsius + 32\n",
    "degrees_fahrenheit"
   ]
  },
  {
   "cell_type": "code",
   "execution_count": null,
   "id": "1e58c58f",
   "metadata": {},
   "outputs": [],
   "source": [
    "degrees_celsius"
   ]
  },
  {
   "cell_type": "code",
   "execution_count": null,
   "id": "20df63a5",
   "metadata": {},
   "outputs": [],
   "source": [
    "degrees_celsius = degrees_celsius + 10\n",
    "degrees_celsius"
   ]
  },
  {
   "cell_type": "code",
   "execution_count": null,
   "id": "aeab4d73",
   "metadata": {},
   "outputs": [],
   "source": [
    "a = 1"
   ]
  },
  {
   "cell_type": "code",
   "execution_count": null,
   "id": "a537cef5",
   "metadata": {},
   "outputs": [],
   "source": [
    "a"
   ]
  },
  {
   "cell_type": "code",
   "execution_count": null,
   "id": "d676653d",
   "metadata": {},
   "outputs": [],
   "source": [
    "b = a"
   ]
  },
  {
   "cell_type": "code",
   "execution_count": null,
   "id": "b68e00aa",
   "metadata": {},
   "outputs": [],
   "source": [
    "b"
   ]
  },
  {
   "cell_type": "code",
   "execution_count": null,
   "id": "d250e226",
   "metadata": {},
   "outputs": [],
   "source": [
    "a = 2"
   ]
  },
  {
   "cell_type": "code",
   "execution_count": null,
   "id": "a3ce84c8",
   "metadata": {},
   "outputs": [],
   "source": [
    "a"
   ]
  },
  {
   "cell_type": "code",
   "execution_count": null,
   "id": "27ad2700",
   "metadata": {},
   "outputs": [],
   "source": [
    "b"
   ]
  },
  {
   "cell_type": "code",
   "execution_count": null,
   "id": "13ca91ce",
   "metadata": {},
   "outputs": [],
   "source": [
    "degrees_celsius = 0"
   ]
  },
  {
   "cell_type": "code",
   "execution_count": null,
   "id": "832bb8d7",
   "metadata": {},
   "outputs": [],
   "source": [
    "# degrees_celsius = degrees_celsius + 10\n",
    "\n",
    "# augmented assignment\n",
    "degrees_celsius += 10\n",
    "degrees_celsius\n",
    "\n",
    "# degrees_celsius **= 10"
   ]
  },
  {
   "cell_type": "code",
   "execution_count": null,
   "id": "18d23121",
   "metadata": {},
   "outputs": [],
   "source": [
    "julia = 'cheese sandwich'\n",
    "kaylie = julia"
   ]
  },
  {
   "cell_type": "code",
   "execution_count": null,
   "id": "9bfcf134",
   "metadata": {},
   "outputs": [],
   "source": [
    "julia"
   ]
  },
  {
   "cell_type": "code",
   "execution_count": null,
   "id": "8912a684",
   "metadata": {},
   "outputs": [],
   "source": [
    "kaylie"
   ]
  },
  {
   "cell_type": "code",
   "execution_count": null,
   "id": "c4ef4583",
   "metadata": {},
   "outputs": [],
   "source": [
    "julia = 'ham sandwich'"
   ]
  },
  {
   "cell_type": "code",
   "execution_count": null,
   "id": "9cc7280d",
   "metadata": {},
   "outputs": [],
   "source": [
    "julia"
   ]
  },
  {
   "cell_type": "code",
   "execution_count": null,
   "id": "0ad8fb10",
   "metadata": {},
   "outputs": [],
   "source": [
    "kaylie"
   ]
  },
  {
   "cell_type": "code",
   "execution_count": null,
   "id": "0bde7350",
   "metadata": {},
   "outputs": [],
   "source": [
    "kaylie = julia"
   ]
  },
  {
   "cell_type": "code",
   "execution_count": null,
   "id": "db32f129",
   "metadata": {},
   "outputs": [],
   "source": [
    "kaylie"
   ]
  },
  {
   "cell_type": "code",
   "execution_count": null,
   "id": "ebfca44f",
   "metadata": {},
   "outputs": [],
   "source": [
    "12 = x"
   ]
  },
  {
   "cell_type": "code",
   "execution_count": null,
   "id": "b8283460",
   "metadata": {},
   "outputs": [],
   "source": [
    "25 -"
   ]
  },
  {
   "cell_type": "code",
   "execution_count": null,
   "id": "3d3b241c",
   "metadata": {},
   "outputs": [],
   "source": [
    "my_variable + 1"
   ]
  },
  {
   "cell_type": "code",
   "execution_count": null,
   "id": "02d5313a",
   "metadata": {},
   "outputs": [],
   "source": [
    "# this is a comment!\n",
    "\n",
    "dog = 'woof'\n",
    "# dog = 'bark'\n",
    "cat = 'meow'"
   ]
  },
  {
   "cell_type": "code",
   "execution_count": null,
   "id": "e3384b06",
   "metadata": {},
   "outputs": [],
   "source": [
    "# readability\n",
    "\n",
    "# white space: space to either side of an operator helps with readability\n",
    "# can split code across multiple lines by wrapping it in parentheses\n",
    "\n",
    "# comments: help explain sections of code\n",
    "# can toggle lines of code on/off\n",
    "\n",
    "# clear and consistent variable names: descriptive variable names\n",
    "# consistent naming practice"
   ]
  },
  {
   "cell_type": "code",
   "execution_count": null,
   "id": "352cd1da",
   "metadata": {},
   "outputs": [],
   "source": [
    "(5 + 5 +\n",
    "  5 + 5)"
   ]
  },
  {
   "cell_type": "markdown",
   "id": "960de3e0",
   "metadata": {},
   "source": [
    "Version 1\n",
    "```python\n",
    "studentone_grade=90\n",
    "StudentGrade2=50\n",
    "stu3gr=74\n",
    "avggrade=(studentone_grade+StudentGrade2+stut3gr)/3\n",
    "```\n",
    "\n",
    "Version 2 \n",
    "```python\n",
    "student1_grade = 90\n",
    "student2_grade = 50\n",
    "student3_grade = 74\n",
    "average_grade = ((student1_grade\n",
    "                  + student2_grade\n",
    "                  + student3_grade)\n",
    "                 / 3)\n",
    "```\n"
   ]
  },
  {
   "cell_type": "code",
   "execution_count": null,
   "id": "e2ac4eae",
   "metadata": {},
   "outputs": [],
   "source": [
    "# function: block of code that performs a task\n",
    "# can take zero or more inputs and return an output\n",
    "\n",
    "print(42)"
   ]
  },
  {
   "cell_type": "code",
   "execution_count": null,
   "id": "f7c97d25",
   "metadata": {},
   "outputs": [],
   "source": [
    "type(42.0)"
   ]
  },
  {
   "cell_type": "code",
   "execution_count": null,
   "id": "549350d7",
   "metadata": {},
   "outputs": [],
   "source": [
    "type(True)"
   ]
  },
  {
   "cell_type": "code",
   "execution_count": null,
   "id": "8054647d",
   "metadata": {},
   "outputs": [],
   "source": [
    "abs(-43)"
   ]
  },
  {
   "cell_type": "code",
   "execution_count": null,
   "id": "ba5e2c18",
   "metadata": {},
   "outputs": [],
   "source": [
    "round(2/3)"
   ]
  },
  {
   "cell_type": "code",
   "execution_count": null,
   "id": "4de0a0f6",
   "metadata": {},
   "outputs": [],
   "source": [
    "2 / 3"
   ]
  },
  {
   "cell_type": "code",
   "execution_count": null,
   "id": "a9ee0753",
   "metadata": {},
   "outputs": [],
   "source": [
    "float(4)"
   ]
  },
  {
   "cell_type": "code",
   "execution_count": null,
   "id": "5cb855cf",
   "metadata": {},
   "outputs": [],
   "source": [
    "int(4.0)"
   ]
  },
  {
   "cell_type": "code",
   "execution_count": null,
   "id": "38734581",
   "metadata": {},
   "outputs": [],
   "source": [
    "type(round(2 * 1.5))"
   ]
  },
  {
   "cell_type": "code",
   "execution_count": null,
   "id": "b57533e7",
   "metadata": {},
   "outputs": [],
   "source": [
    "2 * 1.5"
   ]
  },
  {
   "cell_type": "code",
   "execution_count": null,
   "id": "367b194d",
   "metadata": {},
   "outputs": [],
   "source": [
    "round(3.0)"
   ]
  },
  {
   "cell_type": "code",
   "execution_count": null,
   "id": "b0f10f1d",
   "metadata": {},
   "outputs": [],
   "source": [
    "type(3)"
   ]
  },
  {
   "cell_type": "code",
   "execution_count": null,
   "id": "a2911504",
   "metadata": {},
   "outputs": [],
   "source": [
    "help(round)"
   ]
  },
  {
   "cell_type": "code",
   "execution_count": null,
   "id": "cee2fa40",
   "metadata": {},
   "outputs": [],
   "source": [
    "round(2/3, 5)"
   ]
  },
  {
   "cell_type": "code",
   "execution_count": null,
   "id": "34a135e0",
   "metadata": {},
   "outputs": [],
   "source": [
    "round(2/3)"
   ]
  },
  {
   "cell_type": "code",
   "execution_count": null,
   "id": "2f0e2761",
   "metadata": {},
   "outputs": [],
   "source": [
    "2 / 3 "
   ]
  },
  {
   "cell_type": "code",
   "execution_count": null,
   "id": "07e074d6",
   "metadata": {},
   "outputs": [],
   "source": [
    "round(10/3)"
   ]
  },
  {
   "cell_type": "code",
   "execution_count": null,
   "id": "dc267146",
   "metadata": {},
   "outputs": [],
   "source": [
    "10 / 3"
   ]
  },
  {
   "cell_type": "code",
   "execution_count": null,
   "id": "7950db8b",
   "metadata": {},
   "outputs": [],
   "source": [
    "# function names:\n",
    "# can use letters, digits, and underscores\n",
    "# cannot start with a digit\n",
    "# case sensitive\n",
    "# typically functions start with lowercase letters\n",
    "\n",
    "\n",
    "# parameters: variables used only within a function\n",
    "# pass an argument to a function, argument value is assigned to a corresponding parameter\n",
    "\n",
    "# None: special data type representing no data\n",
    "# if we don't have a return statement, Python will fill in an implicit one and return None"
   ]
  },
  {
   "cell_type": "code",
   "execution_count": null,
   "id": "488a0cd2",
   "metadata": {},
   "outputs": [],
   "source": [
    "def c_to_f(degrees_c):\n",
    "    degrees_f = (9 / 5) * degrees_c + 32\n",
    "    return degrees_f"
   ]
  },
  {
   "cell_type": "code",
   "execution_count": null,
   "id": "3c64200c",
   "metadata": {},
   "outputs": [],
   "source": [
    "c_to_f(100)"
   ]
  },
  {
   "cell_type": "code",
   "execution_count": null,
   "id": "6a569714",
   "metadata": {},
   "outputs": [],
   "source": [
    "c_to_f(-11)"
   ]
  },
  {
   "cell_type": "code",
   "execution_count": null,
   "id": "38c9d40f",
   "metadata": {},
   "outputs": [],
   "source": [
    "boiling_f = c_to_f(100)"
   ]
  },
  {
   "cell_type": "code",
   "execution_count": null,
   "id": "e2ef8f99",
   "metadata": {},
   "outputs": [],
   "source": [
    "boiling_f"
   ]
  },
  {
   "cell_type": "code",
   "execution_count": null,
   "id": "b1a72385",
   "metadata": {},
   "outputs": [],
   "source": [
    "def c_to_f(degrees_c):\n",
    "    degrees_f = (9 / 5) * degrees_c + 32\n",
    "    print(degrees_f)"
   ]
  },
  {
   "cell_type": "code",
   "execution_count": null,
   "id": "1ac52ac1",
   "metadata": {},
   "outputs": [],
   "source": [
    "boiling_f = c_to_f(100) # output is None"
   ]
  },
  {
   "cell_type": "code",
   "execution_count": null,
   "id": "c021b747",
   "metadata": {},
   "outputs": [],
   "source": [
    "boiling_f"
   ]
  },
  {
   "cell_type": "code",
   "execution_count": null,
   "id": "1f8eb2d2",
   "metadata": {},
   "outputs": [],
   "source": []
  }
 ],
 "metadata": {
  "kernelspec": {
   "display_name": "dsi_participant",
   "language": "python",
   "name": "python3"
  },
  "language_info": {
   "codemirror_mode": {
    "name": "ipython",
    "version": 3
   },
   "file_extension": ".py",
   "mimetype": "text/x-python",
   "name": "python",
   "nbconvert_exporter": "python",
   "pygments_lexer": "ipython3",
   "version": "3.9.23"
  }
 },
 "nbformat": 4,
 "nbformat_minor": 5
}

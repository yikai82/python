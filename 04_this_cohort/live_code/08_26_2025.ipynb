{
 "cells": [
  {
   "cell_type": "code",
   "execution_count": 1,
   "id": "704e0420",
   "metadata": {},
   "outputs": [],
   "source": [
    "# August 26, 2025\n",
    "\n",
    "list = [1, 'dog', True]"
   ]
  },
  {
   "cell_type": "code",
   "execution_count": 2,
   "id": "04864d1a",
   "metadata": {},
   "outputs": [
    {
     "data": {
      "text/plain": [
       "[1, 'dog', True]"
      ]
     },
     "execution_count": 2,
     "metadata": {},
     "output_type": "execute_result"
    }
   ],
   "source": [
    "list"
   ]
  },
  {
   "cell_type": "code",
   "execution_count": 3,
   "id": "3258e032",
   "metadata": {},
   "outputs": [
    {
     "data": {
      "text/plain": [
       "'dog'"
      ]
     },
     "execution_count": 3,
     "metadata": {},
     "output_type": "execute_result"
    }
   ],
   "source": [
    "list[1]"
   ]
  },
  {
   "cell_type": "code",
   "execution_count": 4,
   "id": "8e0599e4",
   "metadata": {},
   "outputs": [
    {
     "data": {
      "text/plain": [
       "[1, 'dog']"
      ]
     },
     "execution_count": 4,
     "metadata": {},
     "output_type": "execute_result"
    }
   ],
   "source": [
    "list[:2]"
   ]
  },
  {
   "cell_type": "code",
   "execution_count": 5,
   "id": "c499c405",
   "metadata": {},
   "outputs": [],
   "source": [
    "list_copy = list"
   ]
  },
  {
   "cell_type": "code",
   "execution_count": 6,
   "id": "0046b0f1",
   "metadata": {},
   "outputs": [
    {
     "data": {
      "text/plain": [
       "[1, 'dog', True]"
      ]
     },
     "execution_count": 6,
     "metadata": {},
     "output_type": "execute_result"
    }
   ],
   "source": [
    "list_copy"
   ]
  },
  {
   "cell_type": "code",
   "execution_count": 7,
   "id": "6ea7cf48",
   "metadata": {},
   "outputs": [],
   "source": [
    "list[1] = 'cat'"
   ]
  },
  {
   "cell_type": "code",
   "execution_count": 8,
   "id": "1fbc4c6b",
   "metadata": {},
   "outputs": [
    {
     "data": {
      "text/plain": [
       "[1, 'cat', True]"
      ]
     },
     "execution_count": 8,
     "metadata": {},
     "output_type": "execute_result"
    }
   ],
   "source": [
    "list"
   ]
  },
  {
   "cell_type": "code",
   "execution_count": 9,
   "id": "e9c22c46",
   "metadata": {},
   "outputs": [
    {
     "data": {
      "text/plain": [
       "[1, 'cat', True]"
      ]
     },
     "execution_count": 9,
     "metadata": {},
     "output_type": "execute_result"
    }
   ],
   "source": [
    "list_copy"
   ]
  },
  {
   "cell_type": "code",
   "execution_count": 10,
   "id": "da5c0cbf",
   "metadata": {},
   "outputs": [
    {
     "data": {
      "text/plain": [
       "4"
      ]
     },
     "execution_count": 10,
     "metadata": {},
     "output_type": "execute_result"
    }
   ],
   "source": [
    "perfect_squares = [1, 4, 9, 16]\n",
    "\n",
    "len(perfect_squares)"
   ]
  },
  {
   "cell_type": "code",
   "execution_count": 11,
   "id": "21b51390",
   "metadata": {},
   "outputs": [
    {
     "data": {
      "text/plain": [
       "16"
      ]
     },
     "execution_count": 11,
     "metadata": {},
     "output_type": "execute_result"
    }
   ],
   "source": [
    "max(perfect_squares)"
   ]
  },
  {
   "cell_type": "code",
   "execution_count": 12,
   "id": "e977ac6a",
   "metadata": {},
   "outputs": [
    {
     "data": {
      "text/plain": [
       "30"
      ]
     },
     "execution_count": 12,
     "metadata": {},
     "output_type": "execute_result"
    }
   ],
   "source": [
    "sum(perfect_squares)"
   ]
  },
  {
   "cell_type": "code",
   "execution_count": 13,
   "id": "4f22e26d",
   "metadata": {},
   "outputs": [
    {
     "data": {
      "text/plain": [
       "'dogcat'"
      ]
     },
     "execution_count": 13,
     "metadata": {},
     "output_type": "execute_result"
    }
   ],
   "source": [
    "'dog' + 'cat'"
   ]
  },
  {
   "cell_type": "code",
   "execution_count": 14,
   "id": "05224b9b",
   "metadata": {},
   "outputs": [
    {
     "data": {
      "text/plain": [
       "['a', 'b', 'c', 1, 2, 3]"
      ]
     },
     "execution_count": 14,
     "metadata": {},
     "output_type": "execute_result"
    }
   ],
   "source": [
    "['a', 'b', 'c'] + [1, 2, 3]"
   ]
  },
  {
   "cell_type": "code",
   "execution_count": 15,
   "id": "aa2b02fd",
   "metadata": {},
   "outputs": [
    {
     "data": {
      "text/plain": [
       "'haha'"
      ]
     },
     "execution_count": 15,
     "metadata": {},
     "output_type": "execute_result"
    }
   ],
   "source": [
    "'ha' * 2"
   ]
  },
  {
   "cell_type": "code",
   "execution_count": 16,
   "id": "76e2f78b",
   "metadata": {},
   "outputs": [
    {
     "data": {
      "text/plain": [
       "['a', 'b', 'c', 'a', 'b', 'c']"
      ]
     },
     "execution_count": 16,
     "metadata": {},
     "output_type": "execute_result"
    }
   ],
   "source": [
    "['a', 'b', 'c'] * 2"
   ]
  },
  {
   "cell_type": "code",
   "execution_count": 17,
   "id": "73f14288",
   "metadata": {},
   "outputs": [
    {
     "data": {
      "text/plain": [
       "[1, 4, 9, 16]"
      ]
     },
     "execution_count": 17,
     "metadata": {},
     "output_type": "execute_result"
    }
   ],
   "source": [
    "perfect_squares"
   ]
  },
  {
   "cell_type": "code",
   "execution_count": 18,
   "id": "39f45a6f",
   "metadata": {},
   "outputs": [
    {
     "data": {
      "text/plain": [
       "[1, 4, 9, 16, 1, 4, 9, 16]"
      ]
     },
     "execution_count": 18,
     "metadata": {},
     "output_type": "execute_result"
    }
   ],
   "source": [
    "perfect_squares * 2"
   ]
  },
  {
   "cell_type": "code",
   "execution_count": 19,
   "id": "e27cc1b3",
   "metadata": {},
   "outputs": [
    {
     "data": {
      "text/plain": [
       "[1, 4, 9, 16]"
      ]
     },
     "execution_count": 19,
     "metadata": {},
     "output_type": "execute_result"
    }
   ],
   "source": [
    "perfect_squares"
   ]
  },
  {
   "cell_type": "code",
   "execution_count": null,
   "id": "c07e915e",
   "metadata": {},
   "outputs": [],
   "source": [
    "rainbow = ['red', 'orange', 'yellow', 'green', 'light blue', 'blue', 'violet']\n",
    "\n",
    "# append() is used to add a single element to the end of a list\n",
    "\n",
    "rainbow.append('purple')"
   ]
  },
  {
   "cell_type": "code",
   "execution_count": 21,
   "id": "836f8c68",
   "metadata": {},
   "outputs": [
    {
     "data": {
      "text/plain": [
       "['red', 'orange', 'yellow', 'green', 'light blue', 'blue', 'violet', 'purple']"
      ]
     },
     "execution_count": 21,
     "metadata": {},
     "output_type": "execute_result"
    }
   ],
   "source": [
    "rainbow"
   ]
  },
  {
   "cell_type": "code",
   "execution_count": 22,
   "id": "7fb654e9",
   "metadata": {},
   "outputs": [],
   "source": [
    "rainbow.append(['purple'])"
   ]
  },
  {
   "cell_type": "code",
   "execution_count": 23,
   "id": "5f13d79e",
   "metadata": {},
   "outputs": [
    {
     "data": {
      "text/plain": [
       "['red',\n",
       " 'orange',\n",
       " 'yellow',\n",
       " 'green',\n",
       " 'light blue',\n",
       " 'blue',\n",
       " 'violet',\n",
       " 'purple',\n",
       " ['purple']]"
      ]
     },
     "execution_count": 23,
     "metadata": {},
     "output_type": "execute_result"
    }
   ],
   "source": [
    "rainbow"
   ]
  },
  {
   "cell_type": "code",
   "execution_count": 24,
   "id": "539eecb5",
   "metadata": {},
   "outputs": [],
   "source": [
    "# extend() is used to add elements from an iterable (e.g., lists, tuples, sets, etc.) to the end of a list\n",
    "\n",
    "rainbow.extend(['magenta', 'pink'])"
   ]
  },
  {
   "cell_type": "code",
   "execution_count": 25,
   "id": "24986e6c",
   "metadata": {},
   "outputs": [
    {
     "data": {
      "text/plain": [
       "['red',\n",
       " 'orange',\n",
       " 'yellow',\n",
       " 'green',\n",
       " 'light blue',\n",
       " 'blue',\n",
       " 'violet',\n",
       " 'purple',\n",
       " ['purple'],\n",
       " 'magenta',\n",
       " 'pink']"
      ]
     },
     "execution_count": 25,
     "metadata": {},
     "output_type": "execute_result"
    }
   ],
   "source": [
    "rainbow"
   ]
  },
  {
   "cell_type": "code",
   "execution_count": 26,
   "id": "8ff5a80d",
   "metadata": {},
   "outputs": [],
   "source": [
    "rainbow.extend('pale pink')"
   ]
  },
  {
   "cell_type": "code",
   "execution_count": 27,
   "id": "e497f354",
   "metadata": {},
   "outputs": [
    {
     "data": {
      "text/plain": [
       "['red',\n",
       " 'orange',\n",
       " 'yellow',\n",
       " 'green',\n",
       " 'light blue',\n",
       " 'blue',\n",
       " 'violet',\n",
       " 'purple',\n",
       " ['purple'],\n",
       " 'magenta',\n",
       " 'pink',\n",
       " 'p',\n",
       " 'a',\n",
       " 'l',\n",
       " 'e',\n",
       " ' ',\n",
       " 'p',\n",
       " 'i',\n",
       " 'n',\n",
       " 'k']"
      ]
     },
     "execution_count": 27,
     "metadata": {},
     "output_type": "execute_result"
    }
   ],
   "source": [
    "rainbow"
   ]
  },
  {
   "cell_type": "code",
   "execution_count": 28,
   "id": "9a120c44",
   "metadata": {},
   "outputs": [
    {
     "ename": "TypeError",
     "evalue": "'float' object is not iterable",
     "output_type": "error",
     "traceback": [
      "\u001b[0;31m---------------------------------------------------------------------------\u001b[0m",
      "\u001b[0;31mTypeError\u001b[0m                                 Traceback (most recent call last)",
      "Cell \u001b[0;32mIn[28], line 1\u001b[0m\n\u001b[0;32m----> 1\u001b[0m \u001b[43mrainbow\u001b[49m\u001b[38;5;241;43m.\u001b[39;49m\u001b[43mextend\u001b[49m\u001b[43m(\u001b[49m\u001b[38;5;241;43m2.3\u001b[39;49m\u001b[43m)\u001b[49m\n",
      "\u001b[0;31mTypeError\u001b[0m: 'float' object is not iterable"
     ]
    }
   ],
   "source": [
    "rainbow.extend(2.3)"
   ]
  },
  {
   "cell_type": "code",
   "execution_count": 29,
   "id": "df7fb9e0",
   "metadata": {},
   "outputs": [
    {
     "ename": "TypeError",
     "evalue": "'int' object is not iterable",
     "output_type": "error",
     "traceback": [
      "\u001b[0;31m---------------------------------------------------------------------------\u001b[0m",
      "\u001b[0;31mTypeError\u001b[0m                                 Traceback (most recent call last)",
      "Cell \u001b[0;32mIn[29], line 1\u001b[0m\n\u001b[0;32m----> 1\u001b[0m \u001b[43mrainbow\u001b[49m\u001b[38;5;241;43m.\u001b[39;49m\u001b[43mextend\u001b[49m\u001b[43m(\u001b[49m\u001b[38;5;241;43m3\u001b[39;49m\u001b[43m)\u001b[49m\n",
      "\u001b[0;31mTypeError\u001b[0m: 'int' object is not iterable"
     ]
    }
   ],
   "source": [
    "rainbow.extend(3)"
   ]
  },
  {
   "cell_type": "code",
   "execution_count": 30,
   "id": "b53cf6de",
   "metadata": {},
   "outputs": [],
   "source": [
    "new_rainbow = rainbow.append('dark purple')"
   ]
  },
  {
   "cell_type": "code",
   "execution_count": 31,
   "id": "9ebe793b",
   "metadata": {},
   "outputs": [
    {
     "name": "stdout",
     "output_type": "stream",
     "text": [
      "None\n"
     ]
    }
   ],
   "source": [
    "print(new_rainbow)"
   ]
  },
  {
   "cell_type": "code",
   "execution_count": 32,
   "id": "cecbec5d",
   "metadata": {},
   "outputs": [
    {
     "data": {
      "text/plain": [
       "['red',\n",
       " 'orange',\n",
       " 'yellow',\n",
       " 'green',\n",
       " 'light blue',\n",
       " 'blue',\n",
       " 'violet',\n",
       " 'purple',\n",
       " ['purple'],\n",
       " 'magenta',\n",
       " 'pink',\n",
       " 'p',\n",
       " 'a',\n",
       " 'l',\n",
       " 'e',\n",
       " ' ',\n",
       " 'p',\n",
       " 'i',\n",
       " 'n',\n",
       " 'k',\n",
       " 'dark purple']"
      ]
     },
     "execution_count": 32,
     "metadata": {},
     "output_type": "execute_result"
    }
   ],
   "source": [
    "rainbow"
   ]
  },
  {
   "cell_type": "code",
   "execution_count": null,
   "id": "3f677a01",
   "metadata": {},
   "outputs": [],
   "source": [
    "# list methods that only mutate a list return None, or no data"
   ]
  },
  {
   "cell_type": "code",
   "execution_count": 33,
   "id": "5f467c6c",
   "metadata": {},
   "outputs": [],
   "source": [
    "rainbow.remove('p')"
   ]
  },
  {
   "cell_type": "code",
   "execution_count": 34,
   "id": "4d30c969",
   "metadata": {},
   "outputs": [
    {
     "data": {
      "text/plain": [
       "['red',\n",
       " 'orange',\n",
       " 'yellow',\n",
       " 'green',\n",
       " 'light blue',\n",
       " 'blue',\n",
       " 'violet',\n",
       " 'purple',\n",
       " ['purple'],\n",
       " 'magenta',\n",
       " 'pink',\n",
       " 'a',\n",
       " 'l',\n",
       " 'e',\n",
       " ' ',\n",
       " 'p',\n",
       " 'i',\n",
       " 'n',\n",
       " 'k',\n",
       " 'dark purple']"
      ]
     },
     "execution_count": 34,
     "metadata": {},
     "output_type": "execute_result"
    }
   ],
   "source": [
    "rainbow"
   ]
  },
  {
   "cell_type": "code",
   "execution_count": 38,
   "id": "807fbf9d",
   "metadata": {},
   "outputs": [],
   "source": [
    "rainbow.insert(6, 'indigo')"
   ]
  },
  {
   "cell_type": "code",
   "execution_count": 39,
   "id": "b3daebd0",
   "metadata": {},
   "outputs": [
    {
     "data": {
      "text/plain": [
       "['red',\n",
       " 'orange',\n",
       " 'yellow',\n",
       " 'green',\n",
       " 'light blue',\n",
       " 'blue',\n",
       " 'indigo',\n",
       " 'violet',\n",
       " 'purple',\n",
       " ['purple'],\n",
       " 'magenta',\n",
       " 'pink',\n",
       " 'a',\n",
       " 'l',\n",
       " 'e',\n",
       " ' ',\n",
       " 'p',\n",
       " 'i',\n",
       " 'n',\n",
       " 'k',\n",
       " 'dark purple',\n",
       " 'dark purple']"
      ]
     },
     "execution_count": 39,
     "metadata": {},
     "output_type": "execute_result"
    }
   ],
   "source": [
    "rainbow"
   ]
  },
  {
   "cell_type": "code",
   "execution_count": 40,
   "id": "9eb9d386",
   "metadata": {},
   "outputs": [],
   "source": [
    "del rainbow[-13:]"
   ]
  },
  {
   "cell_type": "code",
   "execution_count": 41,
   "id": "9c5240a8",
   "metadata": {},
   "outputs": [
    {
     "data": {
      "text/plain": [
       "['red',\n",
       " 'orange',\n",
       " 'yellow',\n",
       " 'green',\n",
       " 'light blue',\n",
       " 'blue',\n",
       " 'indigo',\n",
       " 'violet',\n",
       " 'purple']"
      ]
     },
     "execution_count": 41,
     "metadata": {},
     "output_type": "execute_result"
    }
   ],
   "source": [
    "rainbow"
   ]
  },
  {
   "cell_type": "code",
   "execution_count": 42,
   "id": "9ed3a129",
   "metadata": {},
   "outputs": [],
   "source": [
    "rainbow.clear()"
   ]
  },
  {
   "cell_type": "code",
   "execution_count": 43,
   "id": "23d0e49c",
   "metadata": {},
   "outputs": [
    {
     "data": {
      "text/plain": [
       "[]"
      ]
     },
     "execution_count": 43,
     "metadata": {},
     "output_type": "execute_result"
    }
   ],
   "source": [
    "rainbow"
   ]
  },
  {
   "cell_type": "code",
   "execution_count": 44,
   "id": "4d3c4c7b",
   "metadata": {},
   "outputs": [
    {
     "data": {
      "text/plain": [
       "['pineapple', 'apple', 'kiwi', 'banana']"
      ]
     },
     "execution_count": 44,
     "metadata": {},
     "output_type": "execute_result"
    }
   ],
   "source": [
    "# ordered: elements maintain a specific sequence, and this sequence is preserved\n",
    "\n",
    "fruits = ['pineapple', 'apple', 'kiwi', 'banana']\n",
    "fruits"
   ]
  },
  {
   "cell_type": "code",
   "execution_count": 45,
   "id": "284ab8e7",
   "metadata": {},
   "outputs": [
    {
     "data": {
      "text/plain": [
       "'apple'"
      ]
     },
     "execution_count": 45,
     "metadata": {},
     "output_type": "execute_result"
    }
   ],
   "source": [
    "fruits[1]"
   ]
  },
  {
   "cell_type": "code",
   "execution_count": null,
   "id": "f6ade4e1",
   "metadata": {},
   "outputs": [],
   "source": [
    "#sort() method: reorder a list's values in place and return None\n",
    "\n",
    "fruits.sort()"
   ]
  },
  {
   "cell_type": "code",
   "execution_count": 47,
   "id": "8f9fdb7d",
   "metadata": {},
   "outputs": [
    {
     "data": {
      "text/plain": [
       "['apple', 'banana', 'kiwi', 'pineapple']"
      ]
     },
     "execution_count": 47,
     "metadata": {},
     "output_type": "execute_result"
    }
   ],
   "source": [
    "fruits"
   ]
  },
  {
   "cell_type": "code",
   "execution_count": null,
   "id": "e3ecd24b",
   "metadata": {},
   "outputs": [
    {
     "data": {
      "text/plain": [
       "['bell pepper', 'cabbage', 'celery', 'onion', 'potato']"
      ]
     },
     "execution_count": 49,
     "metadata": {},
     "output_type": "execute_result"
    }
   ],
   "source": [
    "veggies = ['potato', 'celery', 'cabbage', 'bell pepper', 'onion']\n",
    "\n",
    "#sorted() function: return a new list with sorted values, but the original list is as it was\n",
    "\n",
    "sorted(veggies)"
   ]
  },
  {
   "cell_type": "code",
   "execution_count": 50,
   "id": "330d9b02",
   "metadata": {},
   "outputs": [
    {
     "data": {
      "text/plain": [
       "['potato', 'celery', 'cabbage', 'bell pepper', 'onion']"
      ]
     },
     "execution_count": 50,
     "metadata": {},
     "output_type": "execute_result"
    }
   ],
   "source": [
    "veggies"
   ]
  },
  {
   "cell_type": "code",
   "execution_count": 51,
   "id": "8d2b0349",
   "metadata": {},
   "outputs": [
    {
     "data": {
      "text/plain": [
       "['A', 'B', 'a', 'c']"
      ]
     },
     "execution_count": 51,
     "metadata": {},
     "output_type": "execute_result"
    }
   ],
   "source": [
    "# numerical data types will be sorted in ascending order\n",
    "# strings will be sorted alphabetically based on the Unicode value of each character\n",
    "# 'A' (65), 'a' (97)\n",
    "\n",
    "letters = ['B', 'c', 'a', 'A']\n",
    "sorted(letters)"
   ]
  },
  {
   "cell_type": "code",
   "execution_count": 52,
   "id": "028b37ab",
   "metadata": {},
   "outputs": [
    {
     "data": {
      "text/plain": [
       "['B', 'c', 'a', 'A']"
      ]
     },
     "execution_count": 52,
     "metadata": {},
     "output_type": "execute_result"
    }
   ],
   "source": [
    "letters"
   ]
  },
  {
   "cell_type": "code",
   "execution_count": null,
   "id": "f6317e4e",
   "metadata": {},
   "outputs": [],
   "source": [
    "students_per_class = [['Grade 9', 20], ['Grade 10', 17], ['Grade 11', 13]]"
   ]
  },
  {
   "cell_type": "code",
   "execution_count": 55,
   "id": "67ccd4c4",
   "metadata": {},
   "outputs": [],
   "source": [
    "# second_element will return the item at index 1 of a list\n",
    "\n",
    "def second_element(item):\n",
    "    return item[1]"
   ]
  },
  {
   "cell_type": "code",
   "execution_count": 56,
   "id": "5bc88059",
   "metadata": {},
   "outputs": [],
   "source": [
    "students_per_class.sort(key = second_element) \n",
    "\n",
    "#sorting will be based on the result of applying the 'second_element' function to each element in the list\n"
   ]
  },
  {
   "cell_type": "code",
   "execution_count": 57,
   "id": "d5eb269a",
   "metadata": {},
   "outputs": [
    {
     "data": {
      "text/plain": [
       "[['Grade 11', 13], ['Grade 10', 17], ['Grade 9', 20]]"
      ]
     },
     "execution_count": 57,
     "metadata": {},
     "output_type": "execute_result"
    }
   ],
   "source": [
    "students_per_class"
   ]
  },
  {
   "cell_type": "code",
   "execution_count": 58,
   "id": "23a7f743",
   "metadata": {},
   "outputs": [
    {
     "data": {
      "text/plain": [
       "['potato', 'celery', 'cabbage', 'bell pepper', 'onion']"
      ]
     },
     "execution_count": 58,
     "metadata": {},
     "output_type": "execute_result"
    }
   ],
   "source": [
    "veggies"
   ]
  },
  {
   "cell_type": "code",
   "execution_count": 61,
   "id": "d8ebb306",
   "metadata": {},
   "outputs": [],
   "source": [
    "veggies.sort()"
   ]
  },
  {
   "cell_type": "code",
   "execution_count": 62,
   "id": "789736df",
   "metadata": {},
   "outputs": [
    {
     "data": {
      "text/plain": [
       "['bell pepper', 'cabbage', 'celery', 'onion', 'potato']"
      ]
     },
     "execution_count": 62,
     "metadata": {},
     "output_type": "execute_result"
    }
   ],
   "source": [
    "veggies"
   ]
  },
  {
   "cell_type": "code",
   "execution_count": null,
   "id": "b669fa81",
   "metadata": {},
   "outputs": [],
   "source": [
    "def last_letter(text):\n",
    "    return text[-1]"
   ]
  },
  {
   "cell_type": "code",
   "execution_count": 68,
   "id": "754a5b08",
   "metadata": {},
   "outputs": [
    {
     "ename": "NameError",
     "evalue": "name 'text' is not defined",
     "output_type": "error",
     "traceback": [
      "\u001b[0;31m---------------------------------------------------------------------------\u001b[0m",
      "\u001b[0;31mNameError\u001b[0m                                 Traceback (most recent call last)",
      "Cell \u001b[0;32mIn[68], line 1\u001b[0m\n\u001b[0;32m----> 1\u001b[0m \u001b[43mtext\u001b[49m\n",
      "\u001b[0;31mNameError\u001b[0m: name 'text' is not defined"
     ]
    }
   ],
   "source": [
    "text"
   ]
  },
  {
   "cell_type": "code",
   "execution_count": 70,
   "id": "f845f12b",
   "metadata": {},
   "outputs": [
    {
     "data": {
      "text/plain": [
       "'r'"
      ]
     },
     "execution_count": 70,
     "metadata": {},
     "output_type": "execute_result"
    }
   ],
   "source": [
    "last_letter('bell_pepper')"
   ]
  },
  {
   "cell_type": "code",
   "execution_count": 65,
   "id": "0c2a39e9",
   "metadata": {},
   "outputs": [
    {
     "data": {
      "text/plain": [
       "'e'"
      ]
     },
     "execution_count": 65,
     "metadata": {},
     "output_type": "execute_result"
    }
   ],
   "source": [
    "last_letter('cabbage')"
   ]
  },
  {
   "cell_type": "code",
   "execution_count": null,
   "id": "b70d00f0",
   "metadata": {},
   "outputs": [],
   "source": [
    "veggies.sort(key=last_letter)\n",
    "\n",
    "# 1.  `last_letter` function is define, which returns back the last character of a string\n",
    "# 2.  We will use this function as the key function for sorting\n",
    "# 3. The `sort()` method is called on the `veggies` list\n",
    "# 4. The `key` parameter is set to `last_letter`, which means the sorting will be based on the result of applying \n",
    "# the `last_letter` function to each element in `veggies`\n",
    "# 5. during the sorting process, each element is passed to the `last_letter` function which extracts the last letter\n",
    "# 6. The `sort()` method arranges the elements in acending order based on the last letter "
   ]
  },
  {
   "cell_type": "code",
   "execution_count": 67,
   "id": "1c56cef6",
   "metadata": {},
   "outputs": [
    {
     "data": {
      "text/plain": [
       "['cabbage', 'onion', 'potato', 'bell pepper', 'celery']"
      ]
     },
     "execution_count": 67,
     "metadata": {},
     "output_type": "execute_result"
    }
   ],
   "source": [
    "veggies"
   ]
  },
  {
   "cell_type": "code",
   "execution_count": 71,
   "id": "083b6e23",
   "metadata": {},
   "outputs": [],
   "source": [
    "# tuples\n",
    "# immutable, ordered\n",
    "\n",
    "mutable_synonyms = ('changeable', 'fluctuating', 'inconstant', 'variable')"
   ]
  },
  {
   "cell_type": "code",
   "execution_count": 98,
   "id": "ed2a1875",
   "metadata": {},
   "outputs": [
    {
     "data": {
      "text/plain": [
       "('changeable', 'fluctuating', 'inconstant', 'variable')"
      ]
     },
     "execution_count": 98,
     "metadata": {},
     "output_type": "execute_result"
    }
   ],
   "source": [
    "mutable_synonyms"
   ]
  },
  {
   "cell_type": "code",
   "execution_count": 112,
   "id": "ca42c485",
   "metadata": {},
   "outputs": [],
   "source": [
    "mutable_synonyms_2 = ('fluctuating', 'changeable', 'inconstant', 'variable')"
   ]
  },
  {
   "cell_type": "code",
   "execution_count": 113,
   "id": "7170a0e3",
   "metadata": {},
   "outputs": [],
   "source": [
    "mutable_synonyms_2 = tuple(sorted(mutable_synonyms_2))"
   ]
  },
  {
   "cell_type": "code",
   "execution_count": 114,
   "id": "f36a3bbe",
   "metadata": {},
   "outputs": [
    {
     "data": {
      "text/plain": [
       "('changeable', 'fluctuating', 'inconstant', 'variable')"
      ]
     },
     "execution_count": 114,
     "metadata": {},
     "output_type": "execute_result"
    }
   ],
   "source": [
    "mutable_synonyms_2"
   ]
  },
  {
   "cell_type": "code",
   "execution_count": 115,
   "id": "72c0d3fa",
   "metadata": {},
   "outputs": [
    {
     "data": {
      "text/plain": [
       "True"
      ]
     },
     "execution_count": 115,
     "metadata": {},
     "output_type": "execute_result"
    }
   ],
   "source": [
    "mutable_synonyms == mutable_synonyms_2"
   ]
  },
  {
   "cell_type": "code",
   "execution_count": 72,
   "id": "2b041ba2",
   "metadata": {},
   "outputs": [
    {
     "data": {
      "text/plain": [
       "('changeable', 'fluctuating', 'inconstant', 'variable')"
      ]
     },
     "execution_count": 72,
     "metadata": {},
     "output_type": "execute_result"
    }
   ],
   "source": [
    "mutable_synonyms"
   ]
  },
  {
   "cell_type": "code",
   "execution_count": null,
   "id": "998d7944",
   "metadata": {},
   "outputs": [],
   "source": [
    "empty = () # conventional"
   ]
  },
  {
   "cell_type": "code",
   "execution_count": 74,
   "id": "ab3b5363",
   "metadata": {},
   "outputs": [
    {
     "data": {
      "text/plain": [
       "tuple"
      ]
     },
     "execution_count": 74,
     "metadata": {},
     "output_type": "execute_result"
    }
   ],
   "source": [
    "type(empty)"
   ]
  },
  {
   "cell_type": "code",
   "execution_count": 75,
   "id": "12ceeb45",
   "metadata": {},
   "outputs": [],
   "source": [
    "empty_2 = tuple()"
   ]
  },
  {
   "cell_type": "code",
   "execution_count": 76,
   "id": "c53ae9b2",
   "metadata": {},
   "outputs": [
    {
     "data": {
      "text/plain": [
       "tuple"
      ]
     },
     "execution_count": 76,
     "metadata": {},
     "output_type": "execute_result"
    }
   ],
   "source": [
    "type(empty_2)"
   ]
  },
  {
   "cell_type": "code",
   "execution_count": null,
   "id": "1f17c955",
   "metadata": {},
   "outputs": [
    {
     "ename": "AttributeError",
     "evalue": "'tuple' object has no attribute 'append'",
     "output_type": "error",
     "traceback": [
      "\u001b[0;31m---------------------------------------------------------------------------\u001b[0m",
      "\u001b[0;31mAttributeError\u001b[0m                            Traceback (most recent call last)",
      "Cell \u001b[0;32mIn[77], line 1\u001b[0m\n\u001b[0;32m----> 1\u001b[0m \u001b[43mempty\u001b[49m\u001b[38;5;241;43m.\u001b[39;49m\u001b[43mappend\u001b[49m(\u001b[38;5;124m'\u001b[39m\u001b[38;5;124mhi\u001b[39m\u001b[38;5;124m'\u001b[39m)\n",
      "\u001b[0;31mAttributeError\u001b[0m: 'tuple' object has no attribute 'append'"
     ]
    }
   ],
   "source": [
    "# not an actual tuple method\n",
    "\n",
    "empty.append('hi')"
   ]
  },
  {
   "cell_type": "code",
   "execution_count": 78,
   "id": "7bdb4514",
   "metadata": {},
   "outputs": [
    {
     "data": {
      "text/plain": [
       "4"
      ]
     },
     "execution_count": 78,
     "metadata": {},
     "output_type": "execute_result"
    }
   ],
   "source": [
    "len(mutable_synonyms)"
   ]
  },
  {
   "cell_type": "code",
   "execution_count": 80,
   "id": "e2815472",
   "metadata": {},
   "outputs": [
    {
     "data": {
      "text/plain": [
       "['changeable', 'fluctuating', 'inconstant', 'variable']"
      ]
     },
     "execution_count": 80,
     "metadata": {},
     "output_type": "execute_result"
    }
   ],
   "source": [
    "sorted(mutable_synonyms)"
   ]
  },
  {
   "cell_type": "code",
   "execution_count": 81,
   "id": "412a011b",
   "metadata": {},
   "outputs": [
    {
     "data": {
      "text/plain": [
       "('changeable',\n",
       " 'fluctuating',\n",
       " 'inconstant',\n",
       " 'variable',\n",
       " 'modifiable',\n",
       " 'shifting')"
      ]
     },
     "execution_count": 81,
     "metadata": {},
     "output_type": "execute_result"
    }
   ],
   "source": [
    "mutable_synonyms + ('modifiable', 'shifting')"
   ]
  },
  {
   "cell_type": "code",
   "execution_count": 82,
   "id": "63d348af",
   "metadata": {},
   "outputs": [
    {
     "data": {
      "text/plain": [
       "('changeable', 'fluctuating', 'inconstant', 'variable')"
      ]
     },
     "execution_count": 82,
     "metadata": {},
     "output_type": "execute_result"
    }
   ],
   "source": [
    "mutable_synonyms"
   ]
  },
  {
   "cell_type": "code",
   "execution_count": 83,
   "id": "7ae5055d",
   "metadata": {},
   "outputs": [],
   "source": [
    "# sets\n",
    "# mutable\n",
    "# unordered and distinct\n",
    "\n",
    "things = {'coat', 'lock', 'box', 'book', 'apple', 'hair', 'xylophone', 'lock', 'book'}"
   ]
  },
  {
   "cell_type": "code",
   "execution_count": 84,
   "id": "4fc4ebdf",
   "metadata": {},
   "outputs": [
    {
     "data": {
      "text/plain": [
       "{'apple', 'book', 'box', 'coat', 'hair', 'lock', 'xylophone'}"
      ]
     },
     "execution_count": 84,
     "metadata": {},
     "output_type": "execute_result"
    }
   ],
   "source": [
    "things"
   ]
  },
  {
   "cell_type": "code",
   "execution_count": 86,
   "id": "83548b8a",
   "metadata": {},
   "outputs": [
    {
     "data": {
      "text/plain": [
       "{'M1M', 'M1T', 'M5R', 'M5V'}"
      ]
     },
     "execution_count": 86,
     "metadata": {},
     "output_type": "execute_result"
    }
   ],
   "source": [
    "visitor_post_codes = ['M5R', 'M5V', 'M1M', 'M1M', 'M1T']\n",
    "set(visitor_post_codes)"
   ]
  },
  {
   "cell_type": "code",
   "execution_count": null,
   "id": "c99163c9",
   "metadata": {},
   "outputs": [],
   "source": [
    "empty_set = set() # NOT {}"
   ]
  },
  {
   "cell_type": "code",
   "execution_count": 89,
   "id": "18e85233",
   "metadata": {},
   "outputs": [
    {
     "data": {
      "text/plain": [
       "set"
      ]
     },
     "execution_count": 89,
     "metadata": {},
     "output_type": "execute_result"
    }
   ],
   "source": [
    "type(empty_set)"
   ]
  },
  {
   "cell_type": "code",
   "execution_count": 90,
   "id": "3a5f17f1",
   "metadata": {},
   "outputs": [
    {
     "data": {
      "text/plain": [
       "{'apple', 'book', 'box', 'coat', 'hair', 'lock', 'xylophone'}"
      ]
     },
     "execution_count": 90,
     "metadata": {},
     "output_type": "execute_result"
    }
   ],
   "source": [
    "things"
   ]
  },
  {
   "cell_type": "code",
   "execution_count": 91,
   "id": "a42669bf",
   "metadata": {},
   "outputs": [],
   "source": [
    "things.add('lock')"
   ]
  },
  {
   "cell_type": "code",
   "execution_count": 92,
   "id": "4cd91e6d",
   "metadata": {},
   "outputs": [
    {
     "data": {
      "text/plain": [
       "{'apple', 'book', 'box', 'coat', 'hair', 'lock', 'xylophone'}"
      ]
     },
     "execution_count": 92,
     "metadata": {},
     "output_type": "execute_result"
    }
   ],
   "source": [
    "things"
   ]
  },
  {
   "cell_type": "code",
   "execution_count": 93,
   "id": "4eb91cca",
   "metadata": {},
   "outputs": [],
   "source": [
    "things.add('mirror')"
   ]
  },
  {
   "cell_type": "code",
   "execution_count": 94,
   "id": "8973905e",
   "metadata": {},
   "outputs": [
    {
     "data": {
      "text/plain": [
       "{'apple', 'book', 'box', 'coat', 'hair', 'lock', 'mirror', 'xylophone'}"
      ]
     },
     "execution_count": 94,
     "metadata": {},
     "output_type": "execute_result"
    }
   ],
   "source": [
    "things"
   ]
  },
  {
   "cell_type": "code",
   "execution_count": 95,
   "id": "9436ea73",
   "metadata": {},
   "outputs": [],
   "source": [
    "things.add('apple')"
   ]
  },
  {
   "cell_type": "code",
   "execution_count": 96,
   "id": "c7d84179",
   "metadata": {},
   "outputs": [
    {
     "data": {
      "text/plain": [
       "{'apple', 'book', 'box', 'coat', 'hair', 'lock', 'mirror', 'xylophone'}"
      ]
     },
     "execution_count": 96,
     "metadata": {},
     "output_type": "execute_result"
    }
   ],
   "source": [
    "things"
   ]
  },
  {
   "cell_type": "code",
   "execution_count": 97,
   "id": "d7e6cc1e",
   "metadata": {},
   "outputs": [
    {
     "ename": "TypeError",
     "evalue": "'set' object is not subscriptable",
     "output_type": "error",
     "traceback": [
      "\u001b[0;31m---------------------------------------------------------------------------\u001b[0m",
      "\u001b[0;31mTypeError\u001b[0m                                 Traceback (most recent call last)",
      "Cell \u001b[0;32mIn[97], line 1\u001b[0m\n\u001b[0;32m----> 1\u001b[0m \u001b[43mthings\u001b[49m\u001b[43m[\u001b[49m\u001b[38;5;241;43m1\u001b[39;49m\u001b[43m]\u001b[49m\n",
      "\u001b[0;31mTypeError\u001b[0m: 'set' object is not subscriptable"
     ]
    }
   ],
   "source": [
    "things[1]"
   ]
  },
  {
   "cell_type": "code",
   "execution_count": 103,
   "id": "4f57d54d",
   "metadata": {},
   "outputs": [
    {
     "ename": "AttributeError",
     "evalue": "'set' object has no attribute 'extend'",
     "output_type": "error",
     "traceback": [
      "\u001b[0;31m---------------------------------------------------------------------------\u001b[0m",
      "\u001b[0;31mAttributeError\u001b[0m                            Traceback (most recent call last)",
      "Cell \u001b[0;32mIn[103], line 1\u001b[0m\n\u001b[0;32m----> 1\u001b[0m \u001b[43mthings\u001b[49m\u001b[38;5;241;43m.\u001b[39;49m\u001b[43mextend\u001b[49m(\u001b[38;5;124m'\u001b[39m\u001b[38;5;124mcat\u001b[39m\u001b[38;5;124m'\u001b[39m)\n",
      "\u001b[0;31mAttributeError\u001b[0m: 'set' object has no attribute 'extend'"
     ]
    }
   ],
   "source": [
    "things.extend('cat')"
   ]
  },
  {
   "cell_type": "code",
   "execution_count": 116,
   "id": "76aa714f",
   "metadata": {},
   "outputs": [],
   "source": [
    "rainbow = {'red', 'orange', 'yellow', 'green', 'blue', 'indigo', 'violet'}\n",
    "olympic_flag = {'red', 'green', 'yellow', 'blue', 'black'}"
   ]
  },
  {
   "cell_type": "code",
   "execution_count": null,
   "id": "f4cbc1eb",
   "metadata": {},
   "outputs": [
    {
     "data": {
      "text/plain": [
       "{'indigo', 'orange', 'violet'}"
      ]
     },
     "execution_count": 117,
     "metadata": {},
     "output_type": "execute_result"
    }
   ],
   "source": [
    "rainbow.difference(olympic_flag) # values in rainbow but not in olympic_flag"
   ]
  },
  {
   "cell_type": "code",
   "execution_count": 118,
   "id": "4d57c86b",
   "metadata": {},
   "outputs": [
    {
     "data": {
      "text/plain": [
       "{'black'}"
      ]
     },
     "execution_count": 118,
     "metadata": {},
     "output_type": "execute_result"
    }
   ],
   "source": [
    "olympic_flag.difference(rainbow) # values in olympic_flag but not in rainbow"
   ]
  },
  {
   "cell_type": "code",
   "execution_count": null,
   "id": "166524b4",
   "metadata": {},
   "outputs": [
    {
     "data": {
      "text/plain": [
       "{'black', 'indigo', 'orange', 'violet'}"
      ]
     },
     "execution_count": 119,
     "metadata": {},
     "output_type": "execute_result"
    }
   ],
   "source": [
    "rainbow.symmetric_difference(olympic_flag) # values that are in only one of two sets"
   ]
  },
  {
   "cell_type": "code",
   "execution_count": null,
   "id": "ff83d312",
   "metadata": {},
   "outputs": [
    {
     "data": {
      "text/plain": [
       "{'blue', 'green', 'red', 'yellow'}"
      ]
     },
     "execution_count": 120,
     "metadata": {},
     "output_type": "execute_result"
    }
   ],
   "source": [
    "rainbow.intersection(olympic_flag) # values that two sets have in common"
   ]
  },
  {
   "cell_type": "code",
   "execution_count": null,
   "id": "6696e074",
   "metadata": {},
   "outputs": [
    {
     "data": {
      "text/plain": [
       "{'black', 'blue', 'green', 'indigo', 'orange', 'red', 'violet', 'yellow'}"
      ]
     },
     "execution_count": 121,
     "metadata": {},
     "output_type": "execute_result"
    }
   ],
   "source": [
    "rainbow.union(olympic_flag) # combining two sets to get the unique values in both"
   ]
  },
  {
   "cell_type": "code",
   "execution_count": null,
   "id": "1dafb87f",
   "metadata": {},
   "outputs": [],
   "source": [
    "# key:value pairs\n",
    "# look up values via keys, every key in a dictionary is unique\n",
    "# keys can be any immutable data type, values can be any data type\n",
    "# mutable and ordered"
   ]
  },
  {
   "cell_type": "code",
   "execution_count": 122,
   "id": "2afb8fb2",
   "metadata": {},
   "outputs": [],
   "source": [
    "capitals = {'Canada':'Ottawa',\n",
    "            'United States': 'Washington, D.C.',\n",
    "            'Mexico': 'Mexico City'}"
   ]
  },
  {
   "cell_type": "code",
   "execution_count": 123,
   "id": "695022a3",
   "metadata": {},
   "outputs": [
    {
     "data": {
      "text/plain": [
       "{'Canada': 'Ottawa',\n",
       " 'United States': 'Washington, D.C.',\n",
       " 'Mexico': 'Mexico City'}"
      ]
     },
     "execution_count": 123,
     "metadata": {},
     "output_type": "execute_result"
    }
   ],
   "source": [
    "capitals"
   ]
  },
  {
   "cell_type": "code",
   "execution_count": 124,
   "id": "654780af",
   "metadata": {},
   "outputs": [
    {
     "data": {
      "text/plain": [
       "{2020: 'Tokyo', 2016: 'Rio de Janiero', 2012: 'London'}"
      ]
     },
     "execution_count": 124,
     "metadata": {},
     "output_type": "execute_result"
    }
   ],
   "source": [
    "olympics_cities = {2020: 'Tokyo',\n",
    "                   2016: 'Rio de Janiero',\n",
    "                   2012: 'London'}\n",
    "\n",
    "olympics_cities"
   ]
  },
  {
   "cell_type": "code",
   "execution_count": 125,
   "id": "6b0da602",
   "metadata": {},
   "outputs": [
    {
     "data": {
      "text/plain": [
       "{'summer': {2020: 'Tokyo', 2016: 'Rio de Janiero', 2012: 'London'},\n",
       " 'winter': {2022: 'Beijing', 2018: 'Pyeongchang'}}"
      ]
     },
     "execution_count": 125,
     "metadata": {},
     "output_type": "execute_result"
    }
   ],
   "source": [
    "all_olympics_hosts = {'summer': olympics_cities,\n",
    "                      'winter': {2022: 'Beijing', 2018: 'Pyeongchang'}}\n",
    "\n",
    "all_olympics_hosts"
   ]
  },
  {
   "cell_type": "code",
   "execution_count": null,
   "id": "ea048312",
   "metadata": {},
   "outputs": [],
   "source": [
    "empty_dictionary = {} # conventional"
   ]
  },
  {
   "cell_type": "code",
   "execution_count": 127,
   "id": "e1840678",
   "metadata": {},
   "outputs": [
    {
     "data": {
      "text/plain": [
       "dict"
      ]
     },
     "execution_count": 127,
     "metadata": {},
     "output_type": "execute_result"
    }
   ],
   "source": [
    "type(empty_dictionary)"
   ]
  },
  {
   "cell_type": "code",
   "execution_count": 128,
   "id": "c975d2cb",
   "metadata": {},
   "outputs": [],
   "source": [
    "empty_dictionary2 = dict()\n"
   ]
  },
  {
   "cell_type": "code",
   "execution_count": 129,
   "id": "e7615586",
   "metadata": {},
   "outputs": [
    {
     "data": {
      "text/plain": [
       "dict"
      ]
     },
     "execution_count": 129,
     "metadata": {},
     "output_type": "execute_result"
    }
   ],
   "source": [
    "type(empty_dictionary2)"
   ]
  },
  {
   "cell_type": "code",
   "execution_count": 130,
   "id": "64282337",
   "metadata": {},
   "outputs": [
    {
     "data": {
      "text/plain": [
       "{2020: 'Tokyo', 2016: 'Rio de Janiero', 2012: 'London'}"
      ]
     },
     "execution_count": 130,
     "metadata": {},
     "output_type": "execute_result"
    }
   ],
   "source": [
    "olympics_cities"
   ]
  },
  {
   "cell_type": "code",
   "execution_count": 131,
   "id": "9c97d6e4",
   "metadata": {},
   "outputs": [
    {
     "data": {
      "text/plain": [
       "'Rio de Janiero'"
      ]
     },
     "execution_count": 131,
     "metadata": {},
     "output_type": "execute_result"
    }
   ],
   "source": [
    "olympics_cities[2016]"
   ]
  },
  {
   "cell_type": "code",
   "execution_count": 132,
   "id": "b3b34596",
   "metadata": {},
   "outputs": [
    {
     "data": {
      "text/plain": [
       "{'summer': {2020: 'Tokyo', 2016: 'Rio de Janiero', 2012: 'London'},\n",
       " 'winter': {2022: 'Beijing', 2018: 'Pyeongchang'}}"
      ]
     },
     "execution_count": 132,
     "metadata": {},
     "output_type": "execute_result"
    }
   ],
   "source": [
    "all_olympics_hosts"
   ]
  },
  {
   "cell_type": "code",
   "execution_count": 133,
   "id": "fd6b5be3",
   "metadata": {},
   "outputs": [
    {
     "data": {
      "text/plain": [
       "'Pyeongchang'"
      ]
     },
     "execution_count": 133,
     "metadata": {},
     "output_type": "execute_result"
    }
   ],
   "source": [
    "all_olympics_hosts['winter'][2018]"
   ]
  },
  {
   "cell_type": "code",
   "execution_count": 134,
   "id": "162ec30a",
   "metadata": {},
   "outputs": [
    {
     "ename": "KeyError",
     "evalue": "2014",
     "output_type": "error",
     "traceback": [
      "\u001b[0;31m---------------------------------------------------------------------------\u001b[0m",
      "\u001b[0;31mKeyError\u001b[0m                                  Traceback (most recent call last)",
      "Cell \u001b[0;32mIn[134], line 1\u001b[0m\n\u001b[0;32m----> 1\u001b[0m \u001b[43molympics_cities\u001b[49m\u001b[43m[\u001b[49m\u001b[38;5;241;43m2014\u001b[39;49m\u001b[43m]\u001b[49m\n",
      "\u001b[0;31mKeyError\u001b[0m: 2014"
     ]
    }
   ],
   "source": [
    "olympics_cities[2014]"
   ]
  },
  {
   "cell_type": "code",
   "execution_count": 135,
   "id": "6f232b48",
   "metadata": {},
   "outputs": [
    {
     "data": {
      "text/plain": [
       "{2020: 'Tokyo', 2016: 'Rio de Janiero', 2012: 'London'}"
      ]
     },
     "execution_count": 135,
     "metadata": {},
     "output_type": "execute_result"
    }
   ],
   "source": [
    "olympics_cities"
   ]
  },
  {
   "cell_type": "code",
   "execution_count": 136,
   "id": "1e5190b0",
   "metadata": {},
   "outputs": [
    {
     "data": {
      "text/plain": [
       "{'summer': {2020: 'Tokyo', 2016: 'Rio de Janiero', 2012: 'London'},\n",
       " 'winter': {2022: 'Beijing', 2018: 'Pyeongchang'}}"
      ]
     },
     "execution_count": 136,
     "metadata": {},
     "output_type": "execute_result"
    }
   ],
   "source": [
    "all_olympics_hosts"
   ]
  },
  {
   "cell_type": "code",
   "execution_count": null,
   "id": "e95cfcad",
   "metadata": {},
   "outputs": [],
   "source": [
    "# in operator checks for keys in a dictionary"
   ]
  },
  {
   "cell_type": "code",
   "execution_count": 137,
   "id": "8dcffa30",
   "metadata": {},
   "outputs": [
    {
     "data": {
      "text/plain": [
       "True"
      ]
     },
     "execution_count": 137,
     "metadata": {},
     "output_type": "execute_result"
    }
   ],
   "source": [
    "2016 in olympics_cities"
   ]
  },
  {
   "cell_type": "code",
   "execution_count": 138,
   "id": "1cffe32e",
   "metadata": {},
   "outputs": [
    {
     "data": {
      "text/plain": [
       "False"
      ]
     },
     "execution_count": 138,
     "metadata": {},
     "output_type": "execute_result"
    }
   ],
   "source": [
    "'Rio de Janiero' in olympics_cities"
   ]
  },
  {
   "cell_type": "code",
   "execution_count": 139,
   "id": "14f929fb",
   "metadata": {},
   "outputs": [
    {
     "data": {
      "text/plain": [
       "{2020: 'Tokyo', 2016: 'Rio de Janiero', 2012: 'London'}"
      ]
     },
     "execution_count": 139,
     "metadata": {},
     "output_type": "execute_result"
    }
   ],
   "source": [
    "olympics_cities"
   ]
  },
  {
   "cell_type": "code",
   "execution_count": 140,
   "id": "ab9673cc",
   "metadata": {},
   "outputs": [],
   "source": [
    "olympics_cities[2008] = 'Barcelona'"
   ]
  },
  {
   "cell_type": "code",
   "execution_count": 141,
   "id": "bc50ea76",
   "metadata": {},
   "outputs": [
    {
     "data": {
      "text/plain": [
       "{2020: 'Tokyo', 2016: 'Rio de Janiero', 2012: 'London', 2008: 'Barcelona'}"
      ]
     },
     "execution_count": 141,
     "metadata": {},
     "output_type": "execute_result"
    }
   ],
   "source": [
    "olympics_cities"
   ]
  },
  {
   "cell_type": "code",
   "execution_count": 142,
   "id": "132156fd",
   "metadata": {},
   "outputs": [],
   "source": [
    "olympics_cities[2008] = 'Beijing'"
   ]
  },
  {
   "cell_type": "code",
   "execution_count": 143,
   "id": "c49ff8f1",
   "metadata": {},
   "outputs": [
    {
     "data": {
      "text/plain": [
       "{2020: 'Tokyo', 2016: 'Rio de Janiero', 2012: 'London', 2008: 'Beijing'}"
      ]
     },
     "execution_count": 143,
     "metadata": {},
     "output_type": "execute_result"
    }
   ],
   "source": [
    "olympics_cities"
   ]
  },
  {
   "cell_type": "code",
   "execution_count": 144,
   "id": "77cd2cb3",
   "metadata": {},
   "outputs": [
    {
     "data": {
      "text/plain": [
       "{'summer': {2020: 'Tokyo',\n",
       "  2016: 'Rio de Janiero',\n",
       "  2012: 'London',\n",
       "  2008: 'Beijing'},\n",
       " 'winter': {2022: 'Beijing', 2018: 'Pyeongchang'}}"
      ]
     },
     "execution_count": 144,
     "metadata": {},
     "output_type": "execute_result"
    }
   ],
   "source": [
    "all_olympics_hosts"
   ]
  },
  {
   "cell_type": "code",
   "execution_count": null,
   "id": "6c4664c4",
   "metadata": {},
   "outputs": [],
   "source": [
    "# mutable data type -> updating a dictionary means that all other\n",
    "# variables that reference it will update"
   ]
  },
  {
   "cell_type": "code",
   "execution_count": 148,
   "id": "5243606e",
   "metadata": {},
   "outputs": [],
   "source": [
    "food = {'breakfast': ['toast', 'eggs', 'yoghurt'],\n",
    "        'lunch': ['soup', 'sandwich', 'eggs']}"
   ]
  },
  {
   "cell_type": "code",
   "execution_count": 149,
   "id": "ed0fe4c4",
   "metadata": {},
   "outputs": [
    {
     "data": {
      "text/plain": [
       "{'breakfast': ['toast', 'eggs', 'yoghurt'],\n",
       " 'lunch': ['soup', 'sandwich', 'eggs']}"
      ]
     },
     "execution_count": 149,
     "metadata": {},
     "output_type": "execute_result"
    }
   ],
   "source": [
    "food"
   ]
  },
  {
   "cell_type": "code",
   "execution_count": 147,
   "id": "be7b895a",
   "metadata": {},
   "outputs": [
    {
     "data": {
      "text/plain": [
       "['toast', 'eggs', 'yoghurt']"
      ]
     },
     "execution_count": 147,
     "metadata": {},
     "output_type": "execute_result"
    }
   ],
   "source": [
    "food['breakfast']"
   ]
  },
  {
   "cell_type": "code",
   "execution_count": 150,
   "id": "fe6723ef",
   "metadata": {},
   "outputs": [
    {
     "data": {
      "text/plain": [
       "{2020: 'Tokyo', 2016: 'Rio de Janiero', 2012: 'London', 2008: 'Beijing'}"
      ]
     },
     "execution_count": 150,
     "metadata": {},
     "output_type": "execute_result"
    }
   ],
   "source": [
    "olympics_cities"
   ]
  },
  {
   "cell_type": "code",
   "execution_count": 151,
   "id": "09a4dfd0",
   "metadata": {},
   "outputs": [],
   "source": [
    "# item is a key:value pair\n",
    "\n",
    "del olympics_cities[2020]"
   ]
  },
  {
   "cell_type": "code",
   "execution_count": 152,
   "id": "9d60c6bb",
   "metadata": {},
   "outputs": [
    {
     "data": {
      "text/plain": [
       "{2016: 'Rio de Janiero', 2012: 'London', 2008: 'Beijing'}"
      ]
     },
     "execution_count": 152,
     "metadata": {},
     "output_type": "execute_result"
    }
   ],
   "source": [
    "olympics_cities"
   ]
  },
  {
   "cell_type": "code",
   "execution_count": 154,
   "id": "a448682d",
   "metadata": {},
   "outputs": [
    {
     "data": {
      "text/plain": [
       "{'summer': {2016: 'Rio de Janiero', 2012: 'London', 2008: 'Beijing'},\n",
       " 'winter': {2022: 'Beijing', 2018: 'Pyeongchang'}}"
      ]
     },
     "execution_count": 154,
     "metadata": {},
     "output_type": "execute_result"
    }
   ],
   "source": [
    "all_olympics_hosts"
   ]
  },
  {
   "cell_type": "code",
   "execution_count": 153,
   "id": "e6c45265",
   "metadata": {},
   "outputs": [
    {
     "data": {
      "text/plain": [
       "dict_keys(['summer', 'winter'])"
      ]
     },
     "execution_count": 153,
     "metadata": {},
     "output_type": "execute_result"
    }
   ],
   "source": [
    "all_olympics_hosts.keys()"
   ]
  },
  {
   "cell_type": "code",
   "execution_count": 155,
   "id": "278f0847",
   "metadata": {},
   "outputs": [
    {
     "data": {
      "text/plain": [
       "{2016: 'Rio de Janiero', 2012: 'London', 2008: 'Beijing'}"
      ]
     },
     "execution_count": 155,
     "metadata": {},
     "output_type": "execute_result"
    }
   ],
   "source": [
    "olympics_cities"
   ]
  },
  {
   "cell_type": "code",
   "execution_count": 156,
   "id": "6e96141b",
   "metadata": {},
   "outputs": [
    {
     "data": {
      "text/plain": [
       "dict_values(['Rio de Janiero', 'London', 'Beijing'])"
      ]
     },
     "execution_count": 156,
     "metadata": {},
     "output_type": "execute_result"
    }
   ],
   "source": [
    "olympics_cities.values()"
   ]
  },
  {
   "cell_type": "code",
   "execution_count": 157,
   "id": "c12cf972",
   "metadata": {},
   "outputs": [
    {
     "data": {
      "text/plain": [
       "dict_items([(2016, 'Rio de Janiero'), (2012, 'London'), (2008, 'Beijing')])"
      ]
     },
     "execution_count": 157,
     "metadata": {},
     "output_type": "execute_result"
    }
   ],
   "source": [
    "olympics_cities.items()"
   ]
  },
  {
   "cell_type": "code",
   "execution_count": null,
   "id": "29dd8d95",
   "metadata": {},
   "outputs": [
    {
     "name": "stdout",
     "output_type": "stream",
     "text": [
      "a\n",
      "e\n",
      "i\n",
      "o\n",
      "u\n"
     ]
    }
   ],
   "source": [
    "# for loop\n",
    "\n",
    "for vowel in ['a', 'e', 'i', 'o', 'u']:  # vowel = 'u'\n",
    "    print(vowel)"
   ]
  },
  {
   "cell_type": "code",
   "execution_count": 160,
   "id": "3a946b12",
   "metadata": {},
   "outputs": [
    {
     "data": {
      "text/plain": [
       "{0, 4, 23}"
      ]
     },
     "execution_count": 160,
     "metadata": {},
     "output_type": "execute_result"
    }
   ],
   "source": [
    "{0, 23, 4}"
   ]
  },
  {
   "cell_type": "code",
   "execution_count": null,
   "id": "abc135cf",
   "metadata": {},
   "outputs": [
    {
     "name": "stdout",
     "output_type": "stream",
     "text": [
      "0\n",
      "4\n",
      "23\n"
     ]
    }
   ],
   "source": [
    "for i in {0, 23, 4}: # i = 23\n",
    "    print(i)"
   ]
  },
  {
   "cell_type": "code",
   "execution_count": null,
   "id": "cba2f255",
   "metadata": {},
   "outputs": [
    {
     "name": "stdout",
     "output_type": "stream",
     "text": [
      "1 3\n",
      "2 6\n",
      "3 9\n"
     ]
    }
   ],
   "source": [
    "for i in [1, 2, 3]: # i = 3\n",
    "    print(i, i*3)"
   ]
  },
  {
   "cell_type": "code",
   "execution_count": 164,
   "id": "a6228919",
   "metadata": {},
   "outputs": [
    {
     "name": "stdout",
     "output_type": "stream",
     "text": [
      "processed_data_01.xlsx\n",
      "['processed_data_01.xlsx']\n",
      "processed_data_02.xlsx\n",
      "['processed_data_01.xlsx', 'processed_data_02.xlsx']\n",
      "processed_data_03.xlsx\n",
      "['processed_data_01.xlsx', 'processed_data_02.xlsx', 'processed_data_03.xlsx']\n"
     ]
    }
   ],
   "source": [
    "input_files = ['data_01.csv', 'data_02.csv', 'data_03.csv']\n",
    "output_files = []\n",
    "\n",
    "for i in input_files: # i = 'data_03.csv'\n",
    "    name = 'processed_' + i.replace('.csv', '.xlsx') # 'processed_data_03.xlsx'\n",
    "    print(name)\n",
    "    output_files.append(name)\n",
    "    print(output_files)\n"
   ]
  },
  {
   "cell_type": "code",
   "execution_count": 163,
   "id": "461f32e0",
   "metadata": {},
   "outputs": [
    {
     "data": {
      "text/plain": [
       "['processed_data_01.xlsx', 'processed_data_02.xlsx', 'processed_data_03.xlsx']"
      ]
     },
     "execution_count": 163,
     "metadata": {},
     "output_type": "execute_result"
    }
   ],
   "source": [
    "output_files"
   ]
  },
  {
   "cell_type": "code",
   "execution_count": null,
   "id": "03e5a0c0",
   "metadata": {},
   "outputs": [
    {
     "name": "stdout",
     "output_type": "stream",
     "text": [
      "4\n",
      "3\n",
      "2\n",
      "1\n"
     ]
    }
   ],
   "source": [
    "countdown = 4\n",
    "\n",
    "while countdown > 0: # countdown = 0\n",
    "    print(countdown)\n",
    "    countdown -= 1"
   ]
  },
  {
   "cell_type": "code",
   "execution_count": null,
   "id": "6322641d",
   "metadata": {},
   "outputs": [],
   "source": []
  }
 ],
 "metadata": {
  "kernelspec": {
   "display_name": "dsi_participant",
   "language": "python",
   "name": "python3"
  },
  "language_info": {
   "codemirror_mode": {
    "name": "ipython",
    "version": 3
   },
   "file_extension": ".py",
   "mimetype": "text/x-python",
   "name": "python",
   "nbconvert_exporter": "python",
   "pygments_lexer": "ipython3",
   "version": "3.11.8"
  }
 },
 "nbformat": 4,
 "nbformat_minor": 5
}

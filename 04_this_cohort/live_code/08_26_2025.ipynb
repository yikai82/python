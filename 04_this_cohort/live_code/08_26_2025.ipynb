{
 "cells": [
  {
   "cell_type": "code",
   "execution_count": null,
   "id": "704e0420",
   "metadata": {},
   "outputs": [],
   "source": [
    "# August 26, 2025\n",
    "\n",
    "list = [1, 'dog', True]"
   ]
  },
  {
   "cell_type": "code",
   "execution_count": null,
   "id": "04864d1a",
   "metadata": {},
   "outputs": [],
   "source": [
    "list"
   ]
  },
  {
   "cell_type": "code",
   "execution_count": null,
   "id": "3258e032",
   "metadata": {},
   "outputs": [],
   "source": [
    "list[1]"
   ]
  },
  {
   "cell_type": "code",
   "execution_count": null,
   "id": "8e0599e4",
   "metadata": {},
   "outputs": [],
   "source": [
    "list[:2]"
   ]
  },
  {
   "cell_type": "code",
   "execution_count": null,
   "id": "c499c405",
   "metadata": {},
   "outputs": [],
   "source": [
    "list_copy = list"
   ]
  },
  {
   "cell_type": "code",
   "execution_count": null,
   "id": "0046b0f1",
   "metadata": {},
   "outputs": [],
   "source": [
    "list_copy"
   ]
  },
  {
   "cell_type": "code",
   "execution_count": null,
   "id": "6ea7cf48",
   "metadata": {},
   "outputs": [],
   "source": [
    "list[1] = 'cat'"
   ]
  },
  {
   "cell_type": "code",
   "execution_count": null,
   "id": "1fbc4c6b",
   "metadata": {},
   "outputs": [],
   "source": [
    "list"
   ]
  },
  {
   "cell_type": "code",
   "execution_count": null,
   "id": "e9c22c46",
   "metadata": {},
   "outputs": [],
   "source": [
    "list_copy"
   ]
  },
  {
   "cell_type": "code",
   "execution_count": null,
   "id": "da5c0cbf",
   "metadata": {},
   "outputs": [],
   "source": [
    "perfect_squares = [1, 4, 9, 16]\n",
    "\n",
    "len(perfect_squares)"
   ]
  },
  {
   "cell_type": "code",
   "execution_count": null,
   "id": "21b51390",
   "metadata": {},
   "outputs": [],
   "source": [
    "max(perfect_squares)"
   ]
  },
  {
   "cell_type": "code",
   "execution_count": null,
   "id": "e977ac6a",
   "metadata": {},
   "outputs": [],
   "source": [
    "sum(perfect_squares)"
   ]
  },
  {
   "cell_type": "code",
   "execution_count": null,
   "id": "4f22e26d",
   "metadata": {},
   "outputs": [],
   "source": [
    "'dog' + 'cat'"
   ]
  },
  {
   "cell_type": "code",
   "execution_count": null,
   "id": "05224b9b",
   "metadata": {},
   "outputs": [],
   "source": [
    "['a', 'b', 'c'] + [1, 2, 3]"
   ]
  },
  {
   "cell_type": "code",
   "execution_count": null,
   "id": "aa2b02fd",
   "metadata": {},
   "outputs": [],
   "source": [
    "'ha' * 2"
   ]
  },
  {
   "cell_type": "code",
   "execution_count": null,
   "id": "76e2f78b",
   "metadata": {},
   "outputs": [],
   "source": [
    "['a', 'b', 'c'] * 2"
   ]
  },
  {
   "cell_type": "code",
   "execution_count": null,
   "id": "73f14288",
   "metadata": {},
   "outputs": [],
   "source": [
    "perfect_squares"
   ]
  },
  {
   "cell_type": "code",
   "execution_count": null,
   "id": "39f45a6f",
   "metadata": {},
   "outputs": [],
   "source": [
    "perfect_squares * 2"
   ]
  },
  {
   "cell_type": "code",
   "execution_count": null,
   "id": "e27cc1b3",
   "metadata": {},
   "outputs": [],
   "source": [
    "perfect_squares"
   ]
  },
  {
   "cell_type": "code",
   "execution_count": null,
   "id": "c07e915e",
   "metadata": {},
   "outputs": [],
   "source": [
    "rainbow = ['red', 'orange', 'yellow', 'green', 'light blue', 'blue', 'violet']\n",
    "rainbow\n",
    "\n"
   ]
  },
  {
   "cell_type": "code",
   "execution_count": null,
   "id": "ad08dacd",
   "metadata": {},
   "outputs": [],
   "source": [
    "# append() is used to add a single element to the end of a list\n",
    "rainbow.append('purple')\n",
    "rainbow"
   ]
  },
  {
   "cell_type": "code",
   "execution_count": null,
   "id": "7fb654e9",
   "metadata": {},
   "outputs": [],
   "source": [
    "rainbow.append(['purple'])\n",
    "rainbow"
   ]
  },
  {
   "cell_type": "code",
   "execution_count": null,
   "id": "539eecb5",
   "metadata": {},
   "outputs": [],
   "source": [
    "# extend() is used to add elements from an iterable (e.g., lists, tuples, sets, etc.) to the end of a list\n",
    "\n",
    "rainbow.extend(['magenta', 'pink'])\n",
    "rainbow"
   ]
  },
  {
   "cell_type": "code",
   "execution_count": null,
   "id": "8ff5a80d",
   "metadata": {},
   "outputs": [],
   "source": [
    "rainbow.extend('pale pink')\n",
    "rainbow"
   ]
  },
  {
   "cell_type": "code",
   "execution_count": null,
   "id": "9a120c44",
   "metadata": {},
   "outputs": [],
   "source": [
    "# these will not run \n",
    "rainbow.extend(2.3)\n",
    "rainbow.extend(3)"
   ]
  },
  {
   "cell_type": "code",
   "execution_count": null,
   "id": "b53cf6de",
   "metadata": {},
   "outputs": [],
   "source": [
    "rainbow = rainbow.append('dark purple')"
   ]
  },
  {
   "cell_type": "code",
   "execution_count": 2,
   "id": "9ebe793b",
   "metadata": {},
   "outputs": [
    {
     "ename": "NameError",
     "evalue": "name 'new_rainbow' is not defined",
     "output_type": "error",
     "traceback": [
      "\u001b[0;31m---------------------------------------------------------------------------\u001b[0m",
      "\u001b[0;31mNameError\u001b[0m                                 Traceback (most recent call last)",
      "Cell \u001b[0;32mIn[2], line 1\u001b[0m\n\u001b[0;32m----> 1\u001b[0m \u001b[38;5;28mprint\u001b[39m(\u001b[43mnew_rainbow\u001b[49m)\n",
      "\u001b[0;31mNameError\u001b[0m: name 'new_rainbow' is not defined"
     ]
    }
   ],
   "source": [
    "print(new_rainbow)"
   ]
  },
  {
   "cell_type": "code",
   "execution_count": null,
   "id": "cecbec5d",
   "metadata": {},
   "outputs": [],
   "source": [
    "rainbow"
   ]
  },
  {
   "cell_type": "code",
   "execution_count": null,
   "id": "3f677a01",
   "metadata": {},
   "outputs": [],
   "source": [
    "# list methods that only mutate a list return None, or no data"
   ]
  },
  {
   "cell_type": "code",
   "execution_count": 1,
   "id": "5f467c6c",
   "metadata": {},
   "outputs": [
    {
     "ename": "NameError",
     "evalue": "name 'rainbow' is not defined",
     "output_type": "error",
     "traceback": [
      "\u001b[0;31m---------------------------------------------------------------------------\u001b[0m",
      "\u001b[0;31mNameError\u001b[0m                                 Traceback (most recent call last)",
      "Cell \u001b[0;32mIn[1], line 1\u001b[0m\n\u001b[0;32m----> 1\u001b[0m \u001b[43mrainbow\u001b[49m\u001b[38;5;241m.\u001b[39mremove(\u001b[38;5;124m'\u001b[39m\u001b[38;5;124mp\u001b[39m\u001b[38;5;124m'\u001b[39m)\n",
      "\u001b[0;31mNameError\u001b[0m: name 'rainbow' is not defined"
     ]
    }
   ],
   "source": [
    "rainbow.remove('p')"
   ]
  },
  {
   "cell_type": "code",
   "execution_count": null,
   "id": "4d30c969",
   "metadata": {},
   "outputs": [],
   "source": [
    "rainbow"
   ]
  },
  {
   "cell_type": "code",
   "execution_count": null,
   "id": "807fbf9d",
   "metadata": {},
   "outputs": [],
   "source": [
    "rainbow.insert(6, 'indigo')"
   ]
  },
  {
   "cell_type": "code",
   "execution_count": null,
   "id": "b3daebd0",
   "metadata": {},
   "outputs": [],
   "source": [
    "rainbow"
   ]
  },
  {
   "cell_type": "code",
   "execution_count": null,
   "id": "9eb9d386",
   "metadata": {},
   "outputs": [],
   "source": [
    "del rainbow[-13:]"
   ]
  },
  {
   "cell_type": "code",
   "execution_count": null,
   "id": "9c5240a8",
   "metadata": {},
   "outputs": [],
   "source": [
    "rainbow"
   ]
  },
  {
   "cell_type": "code",
   "execution_count": null,
   "id": "9ed3a129",
   "metadata": {},
   "outputs": [],
   "source": [
    "rainbow.clear()"
   ]
  },
  {
   "cell_type": "code",
   "execution_count": null,
   "id": "23d0e49c",
   "metadata": {},
   "outputs": [],
   "source": [
    "rainbow"
   ]
  },
  {
   "cell_type": "code",
   "execution_count": null,
   "id": "4d3c4c7b",
   "metadata": {},
   "outputs": [],
   "source": [
    "# ordered: elements maintain a specific sequence, and this sequence is preserved\n",
    "\n",
    "fruits = ['pineapple', 'apple', 'kiwi', 'banana']\n",
    "fruits"
   ]
  },
  {
   "cell_type": "code",
   "execution_count": null,
   "id": "284ab8e7",
   "metadata": {},
   "outputs": [],
   "source": [
    "fruits[1]"
   ]
  },
  {
   "cell_type": "code",
   "execution_count": null,
   "id": "f6ade4e1",
   "metadata": {},
   "outputs": [],
   "source": [
    "#sort() method: reorder a list's values in place and return None\n",
    "\n",
    "fruits.sort()"
   ]
  },
  {
   "cell_type": "code",
   "execution_count": null,
   "id": "8f9fdb7d",
   "metadata": {},
   "outputs": [],
   "source": [
    "fruits"
   ]
  },
  {
   "cell_type": "code",
   "execution_count": null,
   "id": "e3ecd24b",
   "metadata": {},
   "outputs": [],
   "source": [
    "#sorted() function: return a new list with sorted values, but the original list is as it was\n",
    "veggies = ['potato', 'celery', 'cabbage', 'bell pepper', 'onion'] \n",
    "\n",
    "print(f\"{sorted(veggies)} is sorted lsit,\\n {veggies} is the original unsorted list\")"
   ]
  },
  {
   "cell_type": "code",
   "execution_count": null,
   "id": "330d9b02",
   "metadata": {},
   "outputs": [],
   "source": [
    "veggies = sorted (veggies)\n",
    "veggies"
   ]
  },
  {
   "cell_type": "code",
   "execution_count": null,
   "id": "8d2b0349",
   "metadata": {},
   "outputs": [],
   "source": [
    "# numerical data types will be sorted in ascending order\n",
    "# strings will be sorted alphabetically based on the Unicode value of each character\n",
    "# 'A' (65), 'a' (97)\n",
    "\n",
    "letters = ['B', 'c', 'a', 'A']\n",
    "sorted(letters)"
   ]
  },
  {
   "cell_type": "code",
   "execution_count": null,
   "id": "028b37ab",
   "metadata": {},
   "outputs": [],
   "source": [
    "letters"
   ]
  },
  {
   "cell_type": "markdown",
   "id": "724ff1f6",
   "metadata": {},
   "source": [
    "### Using .method () with key function"
   ]
  },
  {
   "cell_type": "code",
   "execution_count": null,
   "id": "f6317e4e",
   "metadata": {},
   "outputs": [],
   "source": [
    "students_per_class = [['Grade 9', 20], ['Grade 10', 17], ['Grade 11', 13]]\n",
    "students_per_class"
   ]
  },
  {
   "cell_type": "code",
   "execution_count": null,
   "id": "ae80282f",
   "metadata": {},
   "outputs": [],
   "source": [
    "students_per_class.sort()\n",
    "students_per_class"
   ]
  },
  {
   "cell_type": "code",
   "execution_count": null,
   "id": "67ccd4c4",
   "metadata": {},
   "outputs": [],
   "source": [
    "# second_element will return the item at index 1 of a list\n",
    "\n",
    "def second_element(item):\n",
    "    return item[1]"
   ]
  },
  {
   "cell_type": "code",
   "execution_count": null,
   "id": "5bc88059",
   "metadata": {},
   "outputs": [],
   "source": [
    "students_per_class.sort(key = second_element) \n",
    "\n",
    "#sorting will be based on the result of applying the 'second_element' function to each element in the list\n",
    "\n",
    "students_per_class"
   ]
  },
  {
   "cell_type": "code",
   "execution_count": null,
   "id": "23a7f743",
   "metadata": {},
   "outputs": [],
   "source": [
    "veggies = ['potato', 'celery', 'cabbage', 'bell pepper', 'onion'] \n",
    "veggies.sort()"
   ]
  },
  {
   "cell_type": "code",
   "execution_count": null,
   "id": "789736df",
   "metadata": {},
   "outputs": [],
   "source": [
    "veggies"
   ]
  },
  {
   "cell_type": "code",
   "execution_count": null,
   "id": "b669fa81",
   "metadata": {},
   "outputs": [],
   "source": [
    "def last_letter(text):\n",
    "    return text[-1]"
   ]
  },
  {
   "cell_type": "code",
   "execution_count": null,
   "id": "f845f12b",
   "metadata": {},
   "outputs": [],
   "source": [
    "last_letter('bell_pepper')"
   ]
  },
  {
   "cell_type": "code",
   "execution_count": null,
   "id": "0c2a39e9",
   "metadata": {},
   "outputs": [],
   "source": [
    "last_letter('cabbage')"
   ]
  },
  {
   "cell_type": "code",
   "execution_count": null,
   "id": "b70d00f0",
   "metadata": {},
   "outputs": [],
   "source": [
    "veggies.sort(key=last_letter)\n",
    "\n",
    "# 1.  `last_letter` function is define, which returns back the last character of a string\n",
    "# 2.  We will use this function as the key function for sorting\n",
    "# 3. The `sort()` method is called on the `veggies` list\n",
    "# 4. The `key` parameter is set to `last_letter`, which means the sorting will be based on the result of applying \n",
    "# the `last_letter` function to each element in `veggies`\n",
    "# 5. during the sorting process, each element is passed to the `last_letter` function which extracts the last letter\n",
    "# 6. The `sort()` method arranges the elements in acending order based on the last letter "
   ]
  },
  {
   "cell_type": "code",
   "execution_count": null,
   "id": "1c56cef6",
   "metadata": {},
   "outputs": [],
   "source": [
    "veggies"
   ]
  },
  {
   "cell_type": "code",
   "execution_count": 84,
   "id": "083b6e23",
   "metadata": {},
   "outputs": [
    {
     "name": "stdout",
     "output_type": "stream",
     "text": [
      "The first tuple is ('changeable', 'fluctuating', 'inconstant', 'variable'),\n",
      " and the second tuple is('fluctuating', 'changeable', 'inconstant', 'variable')\n"
     ]
    }
   ],
   "source": [
    "# tuples\n",
    "# immutable, ordered\n",
    "\n",
    "mutable_synonyms = ('changeable', 'fluctuating', 'inconstant', 'variable')\n",
    "mutable_synonyms_2 = ('fluctuating', 'changeable', 'inconstant', 'variable')\n",
    "print(f\"The first tuple is {mutable_synonyms},\\n and the second tuple is{mutable_synonyms_2}\")\n",
    "\n",
    "\n",
    "\n"
   ]
  },
  {
   "cell_type": "code",
   "execution_count": null,
   "id": "6d8fe2c8",
   "metadata": {},
   "outputs": [],
   "source": [
    "mutable_synonyms.sort()"
   ]
  },
  {
   "cell_type": "code",
   "execution_count": null,
   "id": "7170a0e3",
   "metadata": {},
   "outputs": [],
   "source": [
    "mutable_synonyms_2\n",
    "mutable_synonyms_2 = sorted(mutable_synonyms_2)  # <----- try comment out/uncommented here \n",
    "\n",
    "print(f\"The first one is {mutable_synonyms},\\n and the second one is{mutable_synonyms_2}\")\n",
    "# check if equal\n",
    "mutable_synonyms == mutable_synonyms_2\n",
    "\n",
    "\n"
   ]
  },
  {
   "cell_type": "code",
   "execution_count": null,
   "id": "0d19022d",
   "metadata": {},
   "outputs": [],
   "source": [
    "mutable_synonyms_2\n",
    "mutable_synonyms_3 = tuple(sorted(mutable_synonyms_2))  # <----- try comment out/uncommented here \n",
    "\n",
    "print(f\"The first one is {mutable_synonyms},\\n and the **third** one is{mutable_synonyms_3}\")\n",
    "# check if equal\n",
    "mutable_synonyms == mutable_synonyms_3"
   ]
  },
  {
   "cell_type": "code",
   "execution_count": null,
   "id": "a6818af9",
   "metadata": {},
   "outputs": [],
   "source": [
    "mutable_synonyms_4 = list(mutable_synonyms_3)\n",
    "mutable_synonyms_2 == mutable_synonyms_4"
   ]
  },
  {
   "cell_type": "code",
   "execution_count": 86,
   "id": "412a011b",
   "metadata": {},
   "outputs": [
    {
     "name": "stdout",
     "output_type": "stream",
     "text": [
      "This is the original tuple('changeable', 'fluctuating', 'inconstant', 'variable'),\n",
      " and we try to concatenate ('changeable', 'fluctuating', 'inconstant', 'variable', 'modifiable', 'shifting') with ('modifiable', 'shifting')\n"
     ]
    }
   ],
   "source": [
    "mutable_synonyms = ('changeable', 'fluctuating', 'inconstant', 'variable')\n",
    "mutable_synonyms2 = mutable_synonyms + ('modifiable', 'shifting')\n",
    "\n",
    "print(f\"This is the original tuple{mutable_synonyms},\\n and we try to concatenate {mutable_synonyms2} with ('modifiable', 'shifting')\")\n"
   ]
  },
  {
   "cell_type": "code",
   "execution_count": null,
   "id": "3f4b6505",
   "metadata": {},
   "outputs": [],
   "source": [
    "tu3 = (1, 'apple', 2, 'bananas', 3, 'watermelons')\n",
    "type(tu3)"
   ]
  },
  {
   "cell_type": "code",
   "execution_count": null,
   "id": "40acc6ee",
   "metadata": {},
   "outputs": [],
   "source": []
  },
  {
   "cell_type": "code",
   "execution_count": null,
   "id": "7277f041",
   "metadata": {},
   "outputs": [],
   "source": []
  },
  {
   "cell_type": "code",
   "execution_count": 1,
   "id": "7ae5055d",
   "metadata": {},
   "outputs": [],
   "source": [
    "# sets\n",
    "# mutable\n",
    "# unordered and distinct\n",
    "\n",
    "things = {'coat', 'lock', 'box', 'book', 'apple', 'hair', 'xylophone', 'lock', 'book'}"
   ]
  },
  {
   "cell_type": "code",
   "execution_count": null,
   "id": "4fc4ebdf",
   "metadata": {},
   "outputs": [],
   "source": [
    "things"
   ]
  },
  {
   "cell_type": "code",
   "execution_count": null,
   "id": "83548b8a",
   "metadata": {},
   "outputs": [],
   "source": [
    "visitor_post_codes = ['M5R', 'M5V', 'M1M', 'M1M', 'M1T']\n",
    "set(visitor_post_codes)"
   ]
  },
  {
   "cell_type": "code",
   "execution_count": null,
   "id": "c99163c9",
   "metadata": {},
   "outputs": [
    {
     "name": "stdout",
     "output_type": "stream",
     "text": [
      "output_1 has a data type of <class 'set'>\n",
      "output_2 has a data type of <class 'dict'>\n",
      "output_3 has a data type of <class 'set'>\n"
     ]
    }
   ],
   "source": [
    "output_1 = set()\n",
    "output_2 = {}\n",
    "output_3 = {'apple'}\n",
    "\n",
    "print(f\"output_1 has a data type of {type(output_1)}\")\n",
    "print(f\"output_2 has a data type of {type(output_2)}\")\n",
    "print(f\"output_3 has a data type of {type(output_3)}\")"
   ]
  },
  {
   "cell_type": "code",
   "execution_count": null,
   "id": "3a5f17f1",
   "metadata": {},
   "outputs": [],
   "source": [
    "things"
   ]
  },
  {
   "cell_type": "code",
   "execution_count": null,
   "id": "a42669bf",
   "metadata": {},
   "outputs": [],
   "source": [
    "things.add('lock')"
   ]
  },
  {
   "cell_type": "code",
   "execution_count": null,
   "id": "4cd91e6d",
   "metadata": {},
   "outputs": [],
   "source": [
    "things"
   ]
  },
  {
   "cell_type": "code",
   "execution_count": null,
   "id": "4eb91cca",
   "metadata": {},
   "outputs": [],
   "source": [
    "things.add('mirror')"
   ]
  },
  {
   "cell_type": "code",
   "execution_count": null,
   "id": "8973905e",
   "metadata": {},
   "outputs": [],
   "source": [
    "things"
   ]
  },
  {
   "cell_type": "code",
   "execution_count": null,
   "id": "9436ea73",
   "metadata": {},
   "outputs": [],
   "source": [
    "things.add('apple')"
   ]
  },
  {
   "cell_type": "code",
   "execution_count": null,
   "id": "c7d84179",
   "metadata": {},
   "outputs": [],
   "source": [
    "things"
   ]
  },
  {
   "cell_type": "code",
   "execution_count": null,
   "id": "d7e6cc1e",
   "metadata": {},
   "outputs": [],
   "source": [
    "things[1]"
   ]
  },
  {
   "cell_type": "code",
   "execution_count": null,
   "id": "4f57d54d",
   "metadata": {},
   "outputs": [],
   "source": [
    "things.extend('cat')"
   ]
  },
  {
   "cell_type": "code",
   "execution_count": null,
   "id": "8f7dcb49",
   "metadata": {},
   "outputs": [],
   "source": []
  },
  {
   "cell_type": "code",
   "execution_count": null,
   "id": "b5390d1f",
   "metadata": {},
   "outputs": [],
   "source": []
  },
  {
   "cell_type": "code",
   "execution_count": null,
   "id": "76aa714f",
   "metadata": {},
   "outputs": [],
   "source": [
    "rainbow = {'red', 'orange', 'yellow', 'green', 'blue', 'indigo', 'violet'}\n",
    "olympic_flag = {'red', 'green', 'yellow', 'blue', 'black'}"
   ]
  },
  {
   "cell_type": "code",
   "execution_count": null,
   "id": "f4cbc1eb",
   "metadata": {},
   "outputs": [],
   "source": [
    "rainbow.difference(olympic_flag) # values in rainbow but not in olympic_flag"
   ]
  },
  {
   "cell_type": "code",
   "execution_count": null,
   "id": "4d57c86b",
   "metadata": {},
   "outputs": [],
   "source": [
    "olympic_flag.difference(rainbow) # values in olympic_flag but not in rainbow"
   ]
  },
  {
   "cell_type": "code",
   "execution_count": null,
   "id": "166524b4",
   "metadata": {},
   "outputs": [],
   "source": [
    "rainbow.symmetric_difference(olympic_flag) # values that are in only one of two sets"
   ]
  },
  {
   "cell_type": "code",
   "execution_count": null,
   "id": "ff83d312",
   "metadata": {},
   "outputs": [],
   "source": [
    "rainbow.intersection(olympic_flag) # values that two sets have in common"
   ]
  },
  {
   "cell_type": "code",
   "execution_count": null,
   "id": "6696e074",
   "metadata": {},
   "outputs": [],
   "source": [
    "rainbow.union(olympic_flag) # combining two sets to get the unique values in both"
   ]
  },
  {
   "cell_type": "markdown",
   "id": "1dafb87f",
   "metadata": {},
   "source": [
    "### 4. Dictionary  \n",
    "- key:value pairs  \n",
    "- look up values via keys, every key in a dictionary is unique  \n",
    "- keys can be any immutable data type, values can be any data type  \n",
    "- mutable\n",
    "- ordered"
   ]
  },
  {
   "cell_type": "code",
   "execution_count": 9,
   "id": "2afb8fb2",
   "metadata": {},
   "outputs": [
    {
     "data": {
      "text/plain": [
       "{'Canada': 'Ottawa',\n",
       " 'United States': 'Washington, D.C.',\n",
       " 'Mexico': 'Mexico City'}"
      ]
     },
     "execution_count": 9,
     "metadata": {},
     "output_type": "execute_result"
    }
   ],
   "source": [
    "capitals = {'Canada':'Ottawa',\n",
    "            'United States': 'Washington, D.C.',\n",
    "            'Mexico': 'Mexico City'}\n",
    "\n",
    "capitals"
   ]
  },
  {
   "cell_type": "code",
   "execution_count": 10,
   "id": "654780af",
   "metadata": {},
   "outputs": [
    {
     "data": {
      "text/plain": [
       "{2020: 'Tokyo', 2016: 'Rio de Janiero', 2012: 'London'}"
      ]
     },
     "execution_count": 10,
     "metadata": {},
     "output_type": "execute_result"
    }
   ],
   "source": [
    "olympics_cities = {2020: 'Tokyo',\n",
    "                   2016: 'Rio de Janiero',\n",
    "                   2012: 'London'}\n",
    "\n",
    "olympics_cities"
   ]
  },
  {
   "cell_type": "code",
   "execution_count": 29,
   "id": "6b0da602",
   "metadata": {},
   "outputs": [
    {
     "data": {
      "text/plain": [
       "{'summer': {2020: 'Tokyo',\n",
       "  2016: 'Rio de Janiero',\n",
       "  2012: 'London',\n",
       "  2008: 'Barcelona'},\n",
       " 'winter': {2022: 'Beijing', 2018: 'Pyeongchang'}}"
      ]
     },
     "execution_count": 29,
     "metadata": {},
     "output_type": "execute_result"
    }
   ],
   "source": [
    "all_olympics_hosts = {'summer': olympics_cities,\n",
    "                      'winter': \n",
    "                      {2022: 'Beijing', \n",
    "                       2018: 'Pyeongchang'}}\n",
    "\n",
    "all_olympics_hosts"
   ]
  },
  {
   "cell_type": "code",
   "execution_count": 12,
   "id": "ea048312",
   "metadata": {},
   "outputs": [
    {
     "data": {
      "text/plain": [
       "dict"
      ]
     },
     "execution_count": 12,
     "metadata": {},
     "output_type": "execute_result"
    }
   ],
   "source": [
    "empty_dictionary = {} # conventional\n",
    "type(empty_dictionary)"
   ]
  },
  {
   "cell_type": "code",
   "execution_count": 13,
   "id": "9c97d6e4",
   "metadata": {},
   "outputs": [
    {
     "data": {
      "text/plain": [
       "'Rio de Janiero'"
      ]
     },
     "execution_count": 13,
     "metadata": {},
     "output_type": "execute_result"
    }
   ],
   "source": [
    "olympics_cities[2016]"
   ]
  },
  {
   "cell_type": "code",
   "execution_count": 14,
   "id": "b3b34596",
   "metadata": {},
   "outputs": [
    {
     "data": {
      "text/plain": [
       "{'summer': {2020: 'Tokyo', 2016: 'Rio de Janiero', 2012: 'London'},\n",
       " 'winter': {2022: 'Beijing', 2018: 'Pyeongchang'}}"
      ]
     },
     "execution_count": 14,
     "metadata": {},
     "output_type": "execute_result"
    }
   ],
   "source": [
    "all_olympics_hosts"
   ]
  },
  {
   "cell_type": "code",
   "execution_count": 19,
   "id": "fd6b5be3",
   "metadata": {},
   "outputs": [
    {
     "data": {
      "text/plain": [
       "'Pyeongchang'"
      ]
     },
     "execution_count": 19,
     "metadata": {},
     "output_type": "execute_result"
    }
   ],
   "source": [
    "all_olympics_hosts['winter'][2018]"
   ]
  },
  {
   "cell_type": "code",
   "execution_count": 20,
   "id": "162ec30a",
   "metadata": {},
   "outputs": [
    {
     "ename": "KeyError",
     "evalue": "2014",
     "output_type": "error",
     "traceback": [
      "\u001b[0;31m---------------------------------------------------------------------------\u001b[0m",
      "\u001b[0;31mKeyError\u001b[0m                                  Traceback (most recent call last)",
      "Cell \u001b[0;32mIn[20], line 1\u001b[0m\n\u001b[0;32m----> 1\u001b[0m \u001b[43molympics_cities\u001b[49m\u001b[43m[\u001b[49m\u001b[38;5;241;43m2014\u001b[39;49m\u001b[43m]\u001b[49m\n",
      "\u001b[0;31mKeyError\u001b[0m: 2014"
     ]
    }
   ],
   "source": [
    "olympics_cities[2014]"
   ]
  },
  {
   "cell_type": "code",
   "execution_count": 21,
   "id": "6f232b48",
   "metadata": {},
   "outputs": [
    {
     "data": {
      "text/plain": [
       "{2020: 'Tokyo', 2016: 'Rio de Janiero', 2012: 'London'}"
      ]
     },
     "execution_count": 21,
     "metadata": {},
     "output_type": "execute_result"
    }
   ],
   "source": [
    "olympics_cities"
   ]
  },
  {
   "cell_type": "code",
   "execution_count": 22,
   "id": "1e5190b0",
   "metadata": {},
   "outputs": [
    {
     "data": {
      "text/plain": [
       "{'summer': {2020: 'Tokyo', 2016: 'Rio de Janiero', 2012: 'London'},\n",
       " 'winter': {2022: 'Beijing', 2018: 'Pyeongchang'}}"
      ]
     },
     "execution_count": 22,
     "metadata": {},
     "output_type": "execute_result"
    }
   ],
   "source": [
    "all_olympics_hosts"
   ]
  },
  {
   "cell_type": "code",
   "execution_count": 23,
   "id": "e95cfcad",
   "metadata": {},
   "outputs": [],
   "source": [
    "# in operator checks for keys in a dictionary"
   ]
  },
  {
   "cell_type": "code",
   "execution_count": 25,
   "id": "8dcffa30",
   "metadata": {},
   "outputs": [
    {
     "data": {
      "text/plain": [
       "True"
      ]
     },
     "execution_count": 25,
     "metadata": {},
     "output_type": "execute_result"
    }
   ],
   "source": [
    "2016 in olympics_cities"
   ]
  },
  {
   "cell_type": "code",
   "execution_count": 26,
   "id": "1cffe32e",
   "metadata": {},
   "outputs": [
    {
     "data": {
      "text/plain": [
       "False"
      ]
     },
     "execution_count": 26,
     "metadata": {},
     "output_type": "execute_result"
    }
   ],
   "source": [
    "'Rio de Janiero' in olympics_cities"
   ]
  },
  {
   "cell_type": "code",
   "execution_count": 27,
   "id": "14f929fb",
   "metadata": {},
   "outputs": [
    {
     "data": {
      "text/plain": [
       "{2020: 'Tokyo', 2016: 'Rio de Janiero', 2012: 'London'}"
      ]
     },
     "execution_count": 27,
     "metadata": {},
     "output_type": "execute_result"
    }
   ],
   "source": [
    "olympics_cities"
   ]
  },
  {
   "cell_type": "code",
   "execution_count": 28,
   "id": "ab9673cc",
   "metadata": {},
   "outputs": [],
   "source": [
    "olympics_cities[2008] = 'Barcelona'"
   ]
  },
  {
   "cell_type": "code",
   "execution_count": null,
   "id": "bc50ea76",
   "metadata": {},
   "outputs": [],
   "source": [
    "olympics_cities"
   ]
  },
  {
   "cell_type": "code",
   "execution_count": null,
   "id": "132156fd",
   "metadata": {},
   "outputs": [],
   "source": [
    "olympics_cities[2008] = 'Beijing'"
   ]
  },
  {
   "cell_type": "code",
   "execution_count": null,
   "id": "c49ff8f1",
   "metadata": {},
   "outputs": [],
   "source": [
    "olympics_cities"
   ]
  },
  {
   "cell_type": "code",
   "execution_count": null,
   "id": "77cd2cb3",
   "metadata": {},
   "outputs": [],
   "source": [
    "all_olympics_hosts"
   ]
  },
  {
   "cell_type": "code",
   "execution_count": null,
   "id": "6c4664c4",
   "metadata": {},
   "outputs": [],
   "source": [
    "# mutable data type -> updating a dictionary means that all other\n",
    "# variables that reference it will update"
   ]
  },
  {
   "cell_type": "code",
   "execution_count": null,
   "id": "5243606e",
   "metadata": {},
   "outputs": [],
   "source": [
    "food = {'breakfast': ['toast', 'eggs', 'yoghurt'],\n",
    "        'lunch': ['soup', 'sandwich', 'eggs']}"
   ]
  },
  {
   "cell_type": "code",
   "execution_count": null,
   "id": "ed0fe4c4",
   "metadata": {},
   "outputs": [],
   "source": [
    "food"
   ]
  },
  {
   "cell_type": "code",
   "execution_count": null,
   "id": "be7b895a",
   "metadata": {},
   "outputs": [],
   "source": [
    "food['breakfast']"
   ]
  },
  {
   "cell_type": "code",
   "execution_count": null,
   "id": "fe6723ef",
   "metadata": {},
   "outputs": [],
   "source": [
    "olympics_cities"
   ]
  },
  {
   "cell_type": "code",
   "execution_count": null,
   "id": "09a4dfd0",
   "metadata": {},
   "outputs": [],
   "source": [
    "# item is a key:value pair\n",
    "\n",
    "del olympics_cities[2020]"
   ]
  },
  {
   "cell_type": "code",
   "execution_count": null,
   "id": "9d60c6bb",
   "metadata": {},
   "outputs": [],
   "source": [
    "olympics_cities"
   ]
  },
  {
   "cell_type": "code",
   "execution_count": null,
   "id": "a448682d",
   "metadata": {},
   "outputs": [],
   "source": [
    "all_olympics_hosts"
   ]
  },
  {
   "cell_type": "code",
   "execution_count": null,
   "id": "e6c45265",
   "metadata": {},
   "outputs": [],
   "source": [
    "all_olympics_hosts.keys()"
   ]
  },
  {
   "cell_type": "code",
   "execution_count": null,
   "id": "278f0847",
   "metadata": {},
   "outputs": [],
   "source": [
    "olympics_cities"
   ]
  },
  {
   "cell_type": "code",
   "execution_count": null,
   "id": "6e96141b",
   "metadata": {},
   "outputs": [],
   "source": [
    "olympics_cities.values()"
   ]
  },
  {
   "cell_type": "code",
   "execution_count": null,
   "id": "c12cf972",
   "metadata": {},
   "outputs": [],
   "source": [
    "olympics_cities.items()"
   ]
  },
  {
   "cell_type": "code",
   "execution_count": null,
   "id": "29dd8d95",
   "metadata": {},
   "outputs": [],
   "source": [
    "# for loop\n",
    "\n",
    "for vowel in ['a', 'e', 'i', 'o', 'u']:  # vowel = 'u'\n",
    "    print(vowel)"
   ]
  },
  {
   "cell_type": "code",
   "execution_count": null,
   "id": "3a946b12",
   "metadata": {},
   "outputs": [],
   "source": [
    "{0, 23, 4}"
   ]
  },
  {
   "cell_type": "code",
   "execution_count": null,
   "id": "abc135cf",
   "metadata": {},
   "outputs": [],
   "source": [
    "for i in {0, 23, 4}: # i = 23\n",
    "    print(i)"
   ]
  },
  {
   "cell_type": "code",
   "execution_count": null,
   "id": "cba2f255",
   "metadata": {},
   "outputs": [],
   "source": [
    "for i in [1, 2, 3]: # i = 3\n",
    "    print(i, i*3)"
   ]
  },
  {
   "cell_type": "code",
   "execution_count": null,
   "id": "a6228919",
   "metadata": {},
   "outputs": [],
   "source": [
    "input_files = ['data_01.csv', 'data_02.csv', 'data_03.csv']\n",
    "output_files = []\n",
    "\n",
    "for i in input_files: # i = 'data_03.csv'\n",
    "    name = 'processed_' + i.replace('.csv', '.xlsx') # 'processed_data_03.xlsx'\n",
    "    print(name)\n",
    "    output_files.append(name)\n",
    "    print(output_files)\n"
   ]
  },
  {
   "cell_type": "code",
   "execution_count": null,
   "id": "461f32e0",
   "metadata": {},
   "outputs": [],
   "source": [
    "output_files"
   ]
  },
  {
   "cell_type": "code",
   "execution_count": null,
   "id": "03e5a0c0",
   "metadata": {},
   "outputs": [],
   "source": [
    "countdown = 4\n",
    "\n",
    "while countdown > 0: # countdown = 0\n",
    "    print(countdown)\n",
    "    countdown -= 1"
   ]
  },
  {
   "cell_type": "code",
   "execution_count": null,
   "id": "6322641d",
   "metadata": {},
   "outputs": [],
   "source": []
  }
 ],
 "metadata": {
  "kernelspec": {
   "display_name": "dsi_participant",
   "language": "python",
   "name": "python3"
  },
  "language_info": {
   "codemirror_mode": {
    "name": "ipython",
    "version": 3
   },
   "file_extension": ".py",
   "mimetype": "text/x-python",
   "name": "python",
   "nbconvert_exporter": "python",
   "pygments_lexer": "ipython3",
   "version": "3.9.23"
  }
 },
 "nbformat": 4,
 "nbformat_minor": 5
}

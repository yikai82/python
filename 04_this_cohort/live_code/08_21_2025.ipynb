{
 "cells": [
  {
   "cell_type": "code",
   "execution_count": null,
   "id": "36860799",
   "metadata": {},
   "outputs": [],
   "source": [
    "# August 21, 2025"
   ]
  },
  {
   "cell_type": "markdown",
   "id": "7fb0f1d5",
   "metadata": {},
   "source": [
    "## `not`\n",
    "\n",
    "|X|`not` X|\n",
    "|-|-|\n",
    "|True|False|\n",
    "|False|True|"
   ]
  },
  {
   "cell_type": "code",
   "execution_count": null,
   "id": "833e8c5c",
   "metadata": {},
   "outputs": [],
   "source": [
    "not (3 == 3)"
   ]
  },
  {
   "cell_type": "markdown",
   "id": "e4cc2032",
   "metadata": {},
   "source": [
    "## `and`\n",
    "\n",
    "Evaluates to `True` if both statements are true.\n",
    "\n",
    "|X|Y|X `and` Y|\n",
    "|-|-|-|\n",
    "|True|True|True|\n",
    "|False|True|False|\n",
    "|True|False|False|\n",
    "|False|False|False|"
   ]
  },
  {
   "cell_type": "code",
   "execution_count": null,
   "id": "61a17c2e",
   "metadata": {},
   "outputs": [],
   "source": [
    "(4 > 1) and (2 == 2)"
   ]
  },
  {
   "cell_type": "code",
   "execution_count": null,
   "id": "85151bcc",
   "metadata": {},
   "outputs": [],
   "source": [
    "(4 == 1) and (2 == 2)"
   ]
  },
  {
   "cell_type": "markdown",
   "id": "49ac662f",
   "metadata": {},
   "source": [
    "## To avoid confusion and ensure consistent behaviour, it's recommended to use boolean values (`True` or `False`) explicitly when working with logical operations to ensure predictable outcomes based on boolean logic."
   ]
  },
  {
   "cell_type": "markdown",
   "id": "05657084",
   "metadata": {},
   "source": [
    "## `or`\n",
    "\n",
    "Evaluates to `True` if just one of the statements is true.\n",
    "\n",
    "|X|Y|X `or` Y|\n",
    "|-|-|-|\n",
    "|True|True|True|\n",
    "|False|True|True|\n",
    "|True|False|True|\n",
    "|False|False|False|"
   ]
  },
  {
   "cell_type": "code",
   "execution_count": null,
   "id": "f7b847be",
   "metadata": {},
   "outputs": [],
   "source": [
    "'Python' == 'python' or True"
   ]
  },
  {
   "cell_type": "code",
   "execution_count": null,
   "id": "d3f1bad5",
   "metadata": {},
   "outputs": [],
   "source": [
    "'Python' == 'python'"
   ]
  },
  {
   "cell_type": "code",
   "execution_count": null,
   "id": "a9efd3c7",
   "metadata": {},
   "outputs": [],
   "source": [
    "not (7 % 2 == 1) or True"
   ]
  },
  {
   "cell_type": "code",
   "execution_count": null,
   "id": "e1df7477",
   "metadata": {},
   "outputs": [],
   "source": [
    "7 % 2"
   ]
  },
  {
   "cell_type": "code",
   "execution_count": null,
   "id": "b9620c57",
   "metadata": {},
   "outputs": [],
   "source": [
    "1 == 1"
   ]
  },
  {
   "cell_type": "code",
   "execution_count": null,
   "id": "dba54401",
   "metadata": {},
   "outputs": [],
   "source": [
    "# and operator: return the first falsy value encountered or the last truthy value if all operands \n",
    "# are `True` based on the conditions provided\n",
    "\n",
    "# or operator: return the first truthy value encountered or the last falsy value if all operands\n",
    "# are `False` based on the conditions provided"
   ]
  },
  {
   "cell_type": "code",
   "execution_count": null,
   "id": "486c4a6b",
   "metadata": {},
   "outputs": [],
   "source": [
    "# \"dog\" is a non-empty string, True\n",
    "# \"cat\" is a non-empty string, True\n",
    "\n",
    "\"dog\" or \"cat\" "
   ]
  },
  {
   "cell_type": "code",
   "execution_count": null,
   "id": "a55a4a8a",
   "metadata": {},
   "outputs": [],
   "source": [
    "# 0 is False\n",
    "\n",
    "0 or 0"
   ]
  },
  {
   "cell_type": "markdown",
   "id": "33e284de",
   "metadata": {},
   "source": [
    "## Operator precedence\n",
    "\n",
    "Boolean operators are evaluated after arithmetic and comparison operators.\n",
    "\n",
    "| Order | Operator | Description |\n",
    "|---|---|---|\n",
    "| 1 | `**` | Exponentiation |\n",
    "| 2 | `-`| Negation |\n",
    "| 3 | `*`, `/`, `//`, `%` | Multiplication, division, integer division, and modulo |\n",
    "| 4 | `+`, `-` | Addition and subtraction |\n",
    "| 5 | `<`, `<=`, `>`, `>=`, `==`, `!=` | Less than, less than or equal to, greater than, greater than or equal to, equal, not equal |\n",
    "| 6 | `not` | Not |\n",
    "| 7 | `and` | And |\n",
    "| 8 | `or` | Or|"
   ]
  },
  {
   "cell_type": "code",
   "execution_count": null,
   "id": "b2337bd5",
   "metadata": {},
   "outputs": [],
   "source": [
    "True and True or False"
   ]
  },
  {
   "cell_type": "code",
   "execution_count": null,
   "id": "ec888abe",
   "metadata": {},
   "outputs": [],
   "source": [
    "True or False"
   ]
  },
  {
   "cell_type": "code",
   "execution_count": null,
   "id": "f3423fc1",
   "metadata": {},
   "outputs": [],
   "source": [
    "not ((5 != 6) or (4 < 100))"
   ]
  },
  {
   "cell_type": "code",
   "execution_count": null,
   "id": "bccb03f4",
   "metadata": {},
   "outputs": [],
   "source": [
    "True or True"
   ]
  },
  {
   "cell_type": "code",
   "execution_count": null,
   "id": "05431594",
   "metadata": {},
   "outputs": [],
   "source": [
    "year = 1990\n",
    "\n",
    "if year >= 2000:\n",
    "    print('We are in the 21st century.')"
   ]
  },
  {
   "cell_type": "code",
   "execution_count": null,
   "id": "e20b919d",
   "metadata": {},
   "outputs": [],
   "source": [
    "year = 2025\n",
    "\n",
    "if year >= 2000:\n",
    "    print(\"We are in the 21st century.\")\n",
    "else:\n",
    "    print(\"We are not in the 21st century.\")"
   ]
  },
  {
   "cell_type": "code",
   "execution_count": null,
   "id": "05c050a4",
   "metadata": {},
   "outputs": [],
   "source": [
    "year = 2025\n",
    "\n",
    "if year >= 2000:\n",
    "    print('We are in the 21st century.')\n",
    "elif year >= 1900:\n",
    "    print('We are in the 20th century.')\n",
    "elif year >= 1800:\n",
    "    print('We are in the 19th century.')\n",
    "else:\n",
    "    print('We have gone way back in time!')"
   ]
  },
  {
   "cell_type": "code",
   "execution_count": null,
   "id": "b9ba8d69",
   "metadata": {},
   "outputs": [],
   "source": [
    "def eye_exam_covered(age, qualifying_condition, time_since_last_exam):\n",
    "    # age is int\n",
    "\n",
    "    # qualifying_condition is a bool: True is you have an eligible\n",
    "    # medical condition, False is you do not\n",
    "\n",
    "    # time_since_last_exam is int representing the months since your last exam\n",
    "\n",
    "    if age <= 19:\n",
    "        if time_since_last_exam >= 12:\n",
    "            return \"You are eligible for 1 major eye exam and any minor assessments\"\n",
    "        else:\n",
    "            return \"You are eligible for minor assessments, but not a major eye exam.\"\n",
    "    \n",
    "    elif 20 <= age <= 64:    \n",
    "        if qualifying_condition:\n",
    "            if time_since_last_exam >= 12:\n",
    "                return \"You are eligible for 1 major eye exam and 2 additional follow up minor assessments\"\n",
    "            else:\n",
    "                return \"It hasn't been 12 months since your last major eye exam.\"\n",
    "        else:\n",
    "            return \"You do not have an eligible medical condition affecting your eyes.\"\n",
    "        \n",
    "    elif age >= 65:\n",
    "        if time_since_last_exam >= 18:\n",
    "            return \"You are eligible for 1 major eye exam and 2 additional follow-up minor assessments\"\n",
    "        else:\n",
    "            return \"It hasn't been 18 months since your last major eye exam\"\n",
    "    \n",
    "    else:\n",
    "        return \"Invalid age input.\""
   ]
  },
  {
   "cell_type": "code",
   "execution_count": null,
   "id": "3160470b",
   "metadata": {},
   "outputs": [],
   "source": [
    "eye_exam_covered(67, True, 20)"
   ]
  },
  {
   "cell_type": "code",
   "execution_count": null,
   "id": "592bf5ec",
   "metadata": {},
   "outputs": [],
   "source": [
    "eye_exam_covered(27, True, 15)"
   ]
  },
  {
   "cell_type": "code",
   "execution_count": null,
   "id": "cb353640",
   "metadata": {},
   "outputs": [],
   "source": [
    "eye_exam_covered(19, False, 11)"
   ]
  },
  {
   "cell_type": "code",
   "execution_count": null,
   "id": "0bb21681",
   "metadata": {},
   "outputs": [],
   "source": [
    "vowels = ['a', 'e', 'i', 'o', 'u']\n",
    "vowels"
   ]
  },
  {
   "cell_type": "code",
   "execution_count": null,
   "id": "b93df2aa",
   "metadata": {},
   "outputs": [],
   "source": [
    "empty_list = [] # conventional way\n",
    "\n",
    "empty_list2 = list()"
   ]
  },
  {
   "cell_type": "code",
   "execution_count": null,
   "id": "1706ac14",
   "metadata": {},
   "outputs": [],
   "source": [
    "type(empty_list)"
   ]
  },
  {
   "cell_type": "code",
   "execution_count": null,
   "id": "bfdc77fa",
   "metadata": {},
   "outputs": [],
   "source": [
    "scores = [90, 80, 82, 91, 80]\n",
    "grades = ['K', 1, 2, 3, 4, 5, 6, 7, 8, 9, 10, 11, 12]\n",
    "summary_functions = [len, sum, max, min]"
   ]
  },
  {
   "cell_type": "code",
   "execution_count": null,
   "id": "1a43a7e9",
   "metadata": {},
   "outputs": [],
   "source": [
    "mystery_solvers = [['Sherlock', 'Watson'], \n",
    "                   ['Scooby', 'Shaggy', 'Fred'], \n",
    "                   'Nancy']\n",
    "mystery_solvers"
   ]
  },
  {
   "cell_type": "code",
   "execution_count": null,
   "id": "40be8280",
   "metadata": {},
   "outputs": [],
   "source": [
    "x = grades\n",
    "y = grades[0]\n",
    "z1 = grades[6:9]\n",
    "z2 = grades[1:9:2]\n",
    "\n",
    "print(f\"{x}\\n, {y}\\n, {z1}\\n, {z2}\\n\")"
   ]
  },
  {
   "cell_type": "code",
   "execution_count": null,
   "id": "73c342cb",
   "metadata": {},
   "outputs": [],
   "source": [
    "grades[0]"
   ]
  },
  {
   "cell_type": "code",
   "execution_count": null,
   "id": "442cbc38",
   "metadata": {},
   "outputs": [],
   "source": [
    "grades[6:9]"
   ]
  },
  {
   "cell_type": "code",
   "execution_count": null,
   "id": "478374d5",
   "metadata": {},
   "outputs": [],
   "source": [
    "grades[-4:]"
   ]
  },
  {
   "cell_type": "code",
   "execution_count": null,
   "id": "df0dbf67",
   "metadata": {},
   "outputs": [],
   "source": [
    "grades[13]"
   ]
  },
  {
   "cell_type": "code",
   "execution_count": null,
   "id": "99217e5d",
   "metadata": {},
   "outputs": [],
   "source": [
    "'dog' in 'examples of pets are dogs, cats, and birds'"
   ]
  },
  {
   "cell_type": "code",
   "execution_count": null,
   "id": "3b4260a1",
   "metadata": {},
   "outputs": [],
   "source": [
    "vowels"
   ]
  },
  {
   "cell_type": "code",
   "execution_count": null,
   "id": "926b9e8d",
   "metadata": {},
   "outputs": [],
   "source": [
    "'y' in vowels"
   ]
  },
  {
   "cell_type": "code",
   "execution_count": null,
   "id": "d8547186",
   "metadata": {},
   "outputs": [
    {
     "name": "stdout",
     "output_type": "stream",
     "text": [
      "Julia's sandwich is [['bread', 'tomato', 'bread']],\n",
      "and Kaylie's sandwich  is [['bread', 'tomato', 'bread']]\n"
     ]
    }
   ],
   "source": [
    "### Mutable data type\n",
    "\n",
    "julia_sandwich = ['bread', 'cheese', 'bread'] # <----- a List \n",
    "kaylie_sandwich = julia_sandwich \n",
    "\n",
    "## Julia wants a tomato sandwich \n",
    "julia_sandwich[1] = 'tomato'  \n",
    "\n",
    "print(f\"Julia\\'s sandwich is [{julia_sandwich}],\\nand Kaylie\\'s sandwich  is [{kaylie_sandwich}]\")"
   ]
  },
  {
   "cell_type": "code",
   "execution_count": 21,
   "id": "fa65adb1",
   "metadata": {},
   "outputs": [
    {
     "name": "stdout",
     "output_type": "stream",
     "text": [
      "Julia's sandwich2 is [tomato sandwich],\n",
      "and Kaylie's sandwich2  is [cheese sandwich]\n"
     ]
    }
   ],
   "source": [
    "### Immutable datat type \n",
    "\n",
    "julia_sandwich2 = 'cheese sandwich'  # <----- a string !! \n",
    "kaylie_sandwich2 = julia_sandwich2\n",
    "\n",
    "# Change julia_sandwich2\n",
    "julia_sandwich2 = 'tomato sandwich'\n",
    "\n",
    "print(f\"Julia\\'s sandwich2 is [{julia_sandwich2}],\\nand Kaylie\\'s sandwich2  is [{kaylie_sandwich2}]\")"
   ]
  },
  {
   "cell_type": "code",
   "execution_count": null,
   "id": "7453d1c8",
   "metadata": {},
   "outputs": [],
   "source": [
    "a = 1\n",
    "a"
   ]
  },
  {
   "cell_type": "code",
   "execution_count": null,
   "id": "0afaf657",
   "metadata": {},
   "outputs": [],
   "source": [
    "b = a\n",
    "b"
   ]
  },
  {
   "cell_type": "code",
   "execution_count": null,
   "id": "251ca6b5",
   "metadata": {},
   "outputs": [],
   "source": [
    "a = 2\n",
    "a"
   ]
  },
  {
   "cell_type": "code",
   "execution_count": null,
   "id": "ae3e5897",
   "metadata": {},
   "outputs": [],
   "source": [
    "b"
   ]
  },
  {
   "cell_type": "code",
   "execution_count": null,
   "id": "70ee88ab",
   "metadata": {},
   "outputs": [],
   "source": [
    "a = [1, 2]\n",
    "a"
   ]
  },
  {
   "cell_type": "code",
   "execution_count": null,
   "id": "8ce0aeec",
   "metadata": {},
   "outputs": [],
   "source": [
    "b = a\n",
    "b"
   ]
  },
  {
   "cell_type": "code",
   "execution_count": null,
   "id": "f89a9902",
   "metadata": {},
   "outputs": [],
   "source": [
    "a[0] = 6\n",
    "a"
   ]
  },
  {
   "cell_type": "code",
   "execution_count": null,
   "id": "84f772b6",
   "metadata": {},
   "outputs": [],
   "source": [
    "b"
   ]
  },
  {
   "cell_type": "code",
   "execution_count": 46,
   "id": "6073cd6a",
   "metadata": {},
   "outputs": [
    {
     "data": {
      "text/plain": [
       "37"
      ]
     },
     "execution_count": 46,
     "metadata": {},
     "output_type": "execute_result"
    }
   ],
   "source": [
    "perfect_squares = [1, 4, 9, 16, 25, 37, 49]\n",
    "\n",
    "perfect_squares[5]"
   ]
  },
  {
   "cell_type": "code",
   "execution_count": 47,
   "id": "fe57695f",
   "metadata": {},
   "outputs": [],
   "source": [
    "perfect_squares[5] = 36"
   ]
  },
  {
   "cell_type": "code",
   "execution_count": 48,
   "id": "cba2401e",
   "metadata": {},
   "outputs": [
    {
     "data": {
      "text/plain": [
       "[1, 4, 9, 16, 25, 36, 49]"
      ]
     },
     "execution_count": 48,
     "metadata": {},
     "output_type": "execute_result"
    }
   ],
   "source": [
    "perfect_squares"
   ]
  },
  {
   "cell_type": "code",
   "execution_count": 49,
   "id": "da7925ed",
   "metadata": {},
   "outputs": [
    {
     "data": {
      "text/plain": [
       "[1, 4, 9, 16, 25, 36, 49, 64]"
      ]
     },
     "execution_count": 49,
     "metadata": {},
     "output_type": "execute_result"
    }
   ],
   "source": [
    "perfect_squares.append(64)\n",
    "perfect_squares"
   ]
  }
 ],
 "metadata": {
  "kernelspec": {
   "display_name": "dsi_participant",
   "language": "python",
   "name": "python3"
  },
  "language_info": {
   "codemirror_mode": {
    "name": "ipython",
    "version": 3
   },
   "file_extension": ".py",
   "mimetype": "text/x-python",
   "name": "python",
   "nbconvert_exporter": "python",
   "pygments_lexer": "ipython3",
   "version": "3.9.23"
  }
 },
 "nbformat": 4,
 "nbformat_minor": 5
}
